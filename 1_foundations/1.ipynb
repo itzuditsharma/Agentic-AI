{
 "cells": [
  {
   "cell_type": "code",
   "execution_count": 2,
   "id": "426d381b",
   "metadata": {},
   "outputs": [
    {
     "data": {
      "text/plain": [
       "True"
      ]
     },
     "execution_count": 2,
     "metadata": {},
     "output_type": "execute_result"
    }
   ],
   "source": [
    "from dotenv import load_dotenv\n",
    "load_dotenv(override=True)\n"
   ]
  },
  {
   "cell_type": "code",
   "execution_count": 3,
   "id": "2502714d",
   "metadata": {},
   "outputs": [
    {
     "name": "stdout",
     "output_type": "stream",
     "text": [
      "Loaded OpenAI API key\n"
     ]
    }
   ],
   "source": [
    "import os\n",
    "openai_api_key = os.getenv('OPENAI_API_KEY')\n",
    "\n",
    "if openai_api_key:\n",
    "    print(\"Loaded OpenAI API key\")\n",
    "else:\n",
    "    print(\"Error loading OpenAI API key\")\n"
   ]
  },
  {
   "cell_type": "code",
   "execution_count": 11,
   "id": "8242cc2d",
   "metadata": {},
   "outputs": [],
   "source": [
    "from openai import OpenAI\n",
    "client = OpenAI()\n"
   ]
  },
  {
   "cell_type": "code",
   "execution_count": 12,
   "id": "e65de6c8",
   "metadata": {},
   "outputs": [],
   "source": [
    "messages = [{\"role\" : \"user\", \"content\" : \"What is 2 + 2\"}]"
   ]
  },
  {
   "cell_type": "code",
   "execution_count": 13,
   "id": "85e65ed6",
   "metadata": {},
   "outputs": [
    {
     "name": "stdout",
     "output_type": "stream",
     "text": [
      "2 + 2 equals 4.\n"
     ]
    }
   ],
   "source": [
    "response = client.chat.completions.create(\n",
    "    model=\"gpt-4o-mini\",\n",
    "    messages=messages\n",
    ")\n",
    "\n",
    "print(response.choices[0].message.content)"
   ]
  },
  {
   "cell_type": "code",
   "execution_count": 15,
   "id": "7abb51d8",
   "metadata": {},
   "outputs": [],
   "source": [
    "question = \"Please provide a very hard question to assess someone's IQ. Only give the question\"\n",
    "messages = [{\"role\": \"user\", \"content\": question}]"
   ]
  },
  {
   "cell_type": "code",
   "execution_count": 17,
   "id": "c7ef5461",
   "metadata": {},
   "outputs": [
    {
     "name": "stdout",
     "output_type": "stream",
     "text": [
      "A hiker is at the base of a mountain and has to climb to the summit. The mountain is 3,000 meters high and has a 20% grade. If he climbs at a rate of 300 meters vertically per hour, but descends at a rate of 500 meters vertically per hour when he takes breaks, how many hours will it take for the hiker to reach the summit, considering he takes a break after every 1,000 meters of vertical climbing, where he descends 200 meters during the break? Calculate the total time taken to reach the summit.\n"
     ]
    }
   ],
   "source": [
    "response = client.chat.completions.create(\n",
    "    model = \"gpt-4o-mini\",\n",
    "    messages = messages\n",
    ")\n",
    "\n",
    "question = response.choices[0].message.content\n",
    "print(question)"
   ]
  },
  {
   "cell_type": "markdown",
   "id": "8d79bb5c",
   "metadata": {},
   "source": [
    "We'll now use LLM to answer the question"
   ]
  },
  {
   "cell_type": "code",
   "execution_count": 18,
   "id": "5fa317c6",
   "metadata": {},
   "outputs": [],
   "source": [
    "messages = [{\"role\" : \"user\", \"content\" : question}]"
   ]
  },
  {
   "cell_type": "code",
   "execution_count": 19,
   "id": "19887efc",
   "metadata": {},
   "outputs": [
    {
     "name": "stdout",
     "output_type": "stream",
     "text": [
      "To calculate the total time taken for the hiker to reach the summit of a mountain that is 3,000 meters high with a 20% grade, we need to consider both the climbing and the breaks he takes.\n",
      "\n",
      "### Step 1: Break Down the Climb\n",
      "\n",
      "1. The hiker climbs vertically at a rate of **300 meters/hour**.\n",
      "\n",
      "2. After every **1,000 meters** of climbing, the hiker takes a break where he descends **200 meters**. \n",
      "\n",
      "3. We need to determine how many times he will need to take these breaks.\n",
      "\n",
      "### Step 2: Climbing Segments\n",
      "\n",
      "- For every **1,000 meters** climbed:\n",
      "    - Climbing time: \n",
      "      \\[\n",
      "      \\text{Time to climb 1,000 meters} = \\frac{1,000 \\text{ meters}}{300 \\text{ meters/hour}} = \\frac{10}{3} \\text{ hours} \\approx 3.33 \\text{ hours}\n",
      "      \\]\n",
      "\n",
      "    - After climbing 1,000 meters, he takes a break and descends 200 meters:\n",
      "      \\[\n",
      "      \\text{Time to descend 200 meters} = \\frac{200 \\text{ meters}}{500 \\text{ meters/hour}} = \\frac{2}{5} \\text{ hours} = 0.4 \\text{ hours}\n",
      "      \\]\n",
      "\n",
      "### Step 3: Total Time for Each Climbing Segment\n",
      "\n",
      "- Total time for climbing **1,000 meters** and then descending **200 meters** is:\n",
      "  \\[\n",
      "  \\text{Total time for each 1,000 meters} = \\left(\\frac{10}{3} \\text{ hours} + 0.4 \\text{ hours}\\right) = \\frac{10}{3} + \\frac{2}{5}\n",
      "  \\]\n",
      "  \n",
      "  To add these fractions, we can find a common denominator (15):\n",
      "  \\[\n",
      "  \\frac{10}{3} = \\frac{50}{15}, \\quad \\frac{2}{5} = \\frac{6}{15}\n",
      "  \\]\n",
      "  Therefore:\n",
      "  \\[\n",
      "  \\text{Total time} = \\frac{50}{15} + \\frac{6}{15} = \\frac{56}{15} \\text{ hours}\n",
      "  \\]\n",
      "\n",
      "### Step 4: Number of 1,000 Meter Climbs and Final Segment\n",
      "\n",
      "- Total vertical height to climb is **3,000 meters**. The hiker will climb **three** times **1,000 meters**.\n",
      "\n",
      "- The hiker also has to climb the last segment (from 2,800 meters to 3,000 meters) without taking a break, climbing **200 meters**:\n",
      "  - Climbing time for final **200 meters**:\n",
      "  \\[\n",
      "  \\text{Time to climb 200 meters} = \\frac{200 \\text{ meters}}{300 \\text{ meters/hour}} = \\frac{2}{3} \\text{ hours} \\approx 0.67 \\text{ hours}\n",
      "  \\]\n",
      "\n",
      "### Step 5: Total Time Calculation\n",
      "\n",
      "- Total for the first three segments (3 climbs of 1,000 meters):\n",
      "\n",
      "Total for three segments with breaks:\n",
      "\\[\n",
      "3 \\times \\frac{56}{15} \\text{ hours} = \\frac{168}{15} \\text{ hours}\n",
      "\\]\n",
      "\n",
      "- Adding the last climb of **200 meters**:\n",
      "\\[\n",
      "\\text{Total Time} = \\frac{168}{15} + \\frac{2}{3}\n",
      "\\]\n",
      "\n",
      "Convert \\(\\frac{2}{3}\\) to a fraction with a denominator of 15:\n",
      "\\[\n",
      "\\frac{2}{3} = \\frac{10}{15}\n",
      "\\]\n",
      "\n",
      "Final total time:\n",
      "\\[\n",
      "\\text{Total Time} = \\frac{168}{15} + \\frac{10}{15} = \\frac{178}{15} \\text{ hours} \\approx 11.87 \\text{ hours}\n",
      "\\]\n",
      "\n",
      "### Conclusion\n",
      "Thus, the total time taken for the hiker to reach the summit of the mountain is approximately **11.87 hours**.\n"
     ]
    }
   ],
   "source": [
    "response = client.chat.completions.create(\n",
    "    model = \"gpt-4o-mini\",\n",
    "    messages = messages\n",
    ")\n",
    "\n",
    "answer = response.choices[0].message.content\n",
    "print(answer)"
   ]
  },
  {
   "cell_type": "code",
   "execution_count": 20,
   "id": "46c23975",
   "metadata": {},
   "outputs": [
    {
     "data": {
      "text/markdown": [
       "To calculate the total time taken for the hiker to reach the summit of a mountain that is 3,000 meters high with a 20% grade, we need to consider both the climbing and the breaks he takes.\n",
       "\n",
       "### Step 1: Break Down the Climb\n",
       "\n",
       "1. The hiker climbs vertically at a rate of **300 meters/hour**.\n",
       "\n",
       "2. After every **1,000 meters** of climbing, the hiker takes a break where he descends **200 meters**. \n",
       "\n",
       "3. We need to determine how many times he will need to take these breaks.\n",
       "\n",
       "### Step 2: Climbing Segments\n",
       "\n",
       "- For every **1,000 meters** climbed:\n",
       "    - Climbing time: \n",
       "      \\[\n",
       "      \\text{Time to climb 1,000 meters} = \\frac{1,000 \\text{ meters}}{300 \\text{ meters/hour}} = \\frac{10}{3} \\text{ hours} \\approx 3.33 \\text{ hours}\n",
       "      \\]\n",
       "\n",
       "    - After climbing 1,000 meters, he takes a break and descends 200 meters:\n",
       "      \\[\n",
       "      \\text{Time to descend 200 meters} = \\frac{200 \\text{ meters}}{500 \\text{ meters/hour}} = \\frac{2}{5} \\text{ hours} = 0.4 \\text{ hours}\n",
       "      \\]\n",
       "\n",
       "### Step 3: Total Time for Each Climbing Segment\n",
       "\n",
       "- Total time for climbing **1,000 meters** and then descending **200 meters** is:\n",
       "  \\[\n",
       "  \\text{Total time for each 1,000 meters} = \\left(\\frac{10}{3} \\text{ hours} + 0.4 \\text{ hours}\\right) = \\frac{10}{3} + \\frac{2}{5}\n",
       "  \\]\n",
       "  \n",
       "  To add these fractions, we can find a common denominator (15):\n",
       "  \\[\n",
       "  \\frac{10}{3} = \\frac{50}{15}, \\quad \\frac{2}{5} = \\frac{6}{15}\n",
       "  \\]\n",
       "  Therefore:\n",
       "  \\[\n",
       "  \\text{Total time} = \\frac{50}{15} + \\frac{6}{15} = \\frac{56}{15} \\text{ hours}\n",
       "  \\]\n",
       "\n",
       "### Step 4: Number of 1,000 Meter Climbs and Final Segment\n",
       "\n",
       "- Total vertical height to climb is **3,000 meters**. The hiker will climb **three** times **1,000 meters**.\n",
       "\n",
       "- The hiker also has to climb the last segment (from 2,800 meters to 3,000 meters) without taking a break, climbing **200 meters**:\n",
       "  - Climbing time for final **200 meters**:\n",
       "  \\[\n",
       "  \\text{Time to climb 200 meters} = \\frac{200 \\text{ meters}}{300 \\text{ meters/hour}} = \\frac{2}{3} \\text{ hours} \\approx 0.67 \\text{ hours}\n",
       "  \\]\n",
       "\n",
       "### Step 5: Total Time Calculation\n",
       "\n",
       "- Total for the first three segments (3 climbs of 1,000 meters):\n",
       "\n",
       "Total for three segments with breaks:\n",
       "\\[\n",
       "3 \\times \\frac{56}{15} \\text{ hours} = \\frac{168}{15} \\text{ hours}\n",
       "\\]\n",
       "\n",
       "- Adding the last climb of **200 meters**:\n",
       "\\[\n",
       "\\text{Total Time} = \\frac{168}{15} + \\frac{2}{3}\n",
       "\\]\n",
       "\n",
       "Convert \\(\\frac{2}{3}\\) to a fraction with a denominator of 15:\n",
       "\\[\n",
       "\\frac{2}{3} = \\frac{10}{15}\n",
       "\\]\n",
       "\n",
       "Final total time:\n",
       "\\[\n",
       "\\text{Total Time} = \\frac{168}{15} + \\frac{10}{15} = \\frac{178}{15} \\text{ hours} \\approx 11.87 \\text{ hours}\n",
       "\\]\n",
       "\n",
       "### Conclusion\n",
       "Thus, the total time taken for the hiker to reach the summit of the mountain is approximately **11.87 hours**."
      ],
      "text/plain": [
       "<IPython.core.display.Markdown object>"
      ]
     },
     "metadata": {},
     "output_type": "display_data"
    }
   ],
   "source": [
    "from IPython.display import Markdown, display\n",
    "display(Markdown(answer))"
   ]
  }
 ],
 "metadata": {
  "kernelspec": {
   "display_name": "Python 3",
   "language": "python",
   "name": "python3"
  },
  "language_info": {
   "codemirror_mode": {
    "name": "ipython",
    "version": 3
   },
   "file_extension": ".py",
   "mimetype": "text/x-python",
   "name": "python",
   "nbconvert_exporter": "python",
   "pygments_lexer": "ipython3",
   "version": "3.10.16"
  }
 },
 "nbformat": 4,
 "nbformat_minor": 5
}
