{
 "cells": [
  {
   "cell_type": "code",
   "execution_count": 1,
   "id": "2fddb6ec",
   "metadata": {},
   "outputs": [
    {
     "data": {
      "text/plain": [
       "True"
      ]
     },
     "execution_count": 1,
     "metadata": {},
     "output_type": "execute_result"
    }
   ],
   "source": [
    "from dotenv import load_dotenv\n",
    "load_dotenv(override=True)"
   ]
  },
  {
   "cell_type": "code",
   "execution_count": 2,
   "id": "00eee1b1",
   "metadata": {},
   "outputs": [
    {
     "name": "stdout",
     "output_type": "stream",
     "text": [
      "OpenAI API KEY added\n"
     ]
    }
   ],
   "source": [
    "import os\n",
    "openai_api_key = os.getenv('OPENAI_API_KEY')\n",
    "\n",
    "if(openai_api_key):\n",
    "    print(\"OpenAI API KEY added\")\n",
    "else:\n",
    "    print(\"Unable to add\")"
   ]
  },
  {
   "cell_type": "code",
   "execution_count": 3,
   "id": "984c65d0",
   "metadata": {},
   "outputs": [],
   "source": [
    "from openai import OpenAI\n",
    "client = OpenAI()"
   ]
  },
  {
   "cell_type": "code",
   "execution_count": 9,
   "id": "43204e95",
   "metadata": {},
   "outputs": [],
   "source": [
    "content = \"Pick a business area that might be worth exploring for Agentic AI Opportunity. Only give the opportunity name\""
   ]
  },
  {
   "cell_type": "code",
   "execution_count": 10,
   "id": "d6601ff3",
   "metadata": {},
   "outputs": [],
   "source": [
    "messages = [{\"role\" : \"user\", \"content\" : content}]"
   ]
  },
  {
   "cell_type": "code",
   "execution_count": 11,
   "id": "0da34406",
   "metadata": {},
   "outputs": [],
   "source": [
    "response = client.chat.completions.create(\n",
    "    model = \"gpt-4o-mini\",\n",
    "    messages = messages\n",
    ")\n",
    "\n",
    "case = response.choices[0].message.content"
   ]
  },
  {
   "cell_type": "code",
   "execution_count": 12,
   "id": "c0b8c0ac",
   "metadata": {},
   "outputs": [
    {
     "name": "stdout",
     "output_type": "stream",
     "text": [
      "Personalized Healthcare Optimization\n"
     ]
    }
   ],
   "source": [
    "print(case)"
   ]
  },
  {
   "cell_type": "code",
   "execution_count": 13,
   "id": "3a4e1ba1",
   "metadata": {},
   "outputs": [],
   "source": [
    "messages = [{\"role\" : \"user\", \"content\" : f\" present a pain point in {case} - something challenging that might be ripe for an Agentic Solution\"}]"
   ]
  },
  {
   "cell_type": "code",
   "execution_count": 14,
   "id": "8f0a3f54",
   "metadata": {},
   "outputs": [
    {
     "name": "stdout",
     "output_type": "stream",
     "text": [
      "One significant pain point in Personalized Healthcare Optimization is the integration and management of diverse data sources, which can be ripe for an Agentic Solution.\n",
      "\n",
      "### Pain Point: Fragmented Data Ecosystem\n",
      "\n",
      "**Challenge:** Personalized healthcare relies on a multitude of data sources, including electronic health records (EHRs), genomic data, wearable health devices, patient-reported outcomes, and social determinants of health. This data is often fragmented, not standardized, and stored in various systems that do not communicate effectively with each other. As a result, healthcare providers struggle to gain a holistic view of a patient’s health, which can hinder personalized treatment plans and lead to suboptimal healthcare outcomes.\n",
      "\n",
      "### Agentic Solution: Intelligent Integration Agents\n",
      "\n",
      "**Concept:** An Agentic Solution could involve the development of intelligent integration agents that autonomously aggregate, analyze, and manage patient data from these disparate sources. These agents would utilize advanced algorithms, machine learning, and natural language processing to:\n",
      "\n",
      "1. **Aggregate Data:** Continuously pull in data from EHRs, wearable devices, and other healthcare applications in real-time, ensuring a comprehensive view of the patient.\n",
      "   \n",
      "2. **Standardize and Normalize:** Automatically convert diverse data formats and languages into a standardized structure that allows for easier comparison and analysis.\n",
      "\n",
      "3. **Analyze Contextually:** Leverage AI to analyze the aggregated data in context, identifying patterns, potential health risks, and treatment efficacy tailored to individual patients.\n",
      "\n",
      "4. **Deliver Insights:** Provide actionable insights to healthcare providers and patients through personalized dashboards, incorporating relevant social determinants of health that might affect treatment.\n",
      "\n",
      "5. **Ensure Privacy and Compliance:** Implement robust security measures and compliance protocols to protect sensitive personal health information, enabling patients to share their data confidently.\n",
      "\n",
      "### Benefits:\n",
      "\n",
      "- **Holistic Patient Profiles:** Providers gain access to a complete picture of a patient’s health, enabling more accurate diagnoses and personalized treatment plans.\n",
      "- **Informed Decision-Making:** By having real-time, actionable insights, healthcare providers can make informed decisions quickly, improving patient outcomes.\n",
      "- **Empowerment of Patients:** Patients receive personalized health information and recommendations, fostering greater engagement and self-management of their health conditions.\n",
      "\n",
      "In summary, addressing the fragmented data ecosystem in personalized healthcare with intelligent integration agents can significantly enhance the efficiency and effectiveness of healthcare delivery, making it a ripe area for innovation.\n"
     ]
    }
   ],
   "source": [
    "response = client.chat.completions.create(\n",
    "    model = \"gpt-4o-mini\",\n",
    "    messages = messages\n",
    ")\n",
    "\n",
    "pain_point = response.choices[0].message.content\n",
    "\n",
    "print(pain_point)"
   ]
  }
 ],
 "metadata": {
  "kernelspec": {
   "display_name": "Python 3",
   "language": "python",
   "name": "python3"
  },
  "language_info": {
   "codemirror_mode": {
    "name": "ipython",
    "version": 3
   },
   "file_extension": ".py",
   "mimetype": "text/x-python",
   "name": "python",
   "nbconvert_exporter": "python",
   "pygments_lexer": "ipython3",
   "version": "3.10.16"
  }
 },
 "nbformat": 4,
 "nbformat_minor": 5
}
