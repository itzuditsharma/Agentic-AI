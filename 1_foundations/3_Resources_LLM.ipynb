{
 "cells": [
  {
   "cell_type": "code",
   "execution_count": 30,
   "id": "68fc44fd",
   "metadata": {},
   "outputs": [
    {
     "data": {
      "text/plain": [
       "True"
      ]
     },
     "execution_count": 30,
     "metadata": {},
     "output_type": "execute_result"
    }
   ],
   "source": [
    "import os\n",
    "from openai import OpenAI\n",
    "from PyPDF2 import PdfReader\n",
    "import gradio as gr\n",
    "from dotenv import load_dotenv\n",
    "load_dotenv(override=True)"
   ]
  },
  {
   "cell_type": "code",
   "execution_count": 31,
   "id": "9d96696d",
   "metadata": {},
   "outputs": [],
   "source": [
    "openai_api_key = os.getenv('OPENAI_API_KEY')"
   ]
  },
  {
   "cell_type": "code",
   "execution_count": 32,
   "id": "3c343a9e",
   "metadata": {},
   "outputs": [],
   "source": [
    "client = OpenAI()"
   ]
  },
  {
   "cell_type": "code",
   "execution_count": 33,
   "id": "53c4fbdf",
   "metadata": {},
   "outputs": [],
   "source": [
    "reader = PdfReader(\"../me/Profile.pdf\")\n",
    "linkedin = \"\"\n",
    "for page in reader.pages:\n",
    "    text = page.extract_text()\n",
    "    if text:\n",
    "        linkedin += text\n"
   ]
  },
  {
   "cell_type": "code",
   "execution_count": 34,
   "id": "3cf7ce82",
   "metadata": {},
   "outputs": [
    {
     "name": "stdout",
     "output_type": "stream",
     "text": [
      "   \n",
      "Contact\n",
      "uditsharma8959@gmail.com\n",
      "www.linkedin.com/in/itzuditsharma\n",
      "(LinkedIn)\n",
      "Top Skills\n",
      "LangChain\n",
      "Natural Language Processing (NLP)\n",
      "Deep Neural Networks (DNN)\n",
      "Languages\n",
      "English  (Professional Working)\n",
      "Certifications\n",
      "Deep Learning Specialization\n",
      "AWS Academy Graduate - AWS\n",
      "Academy Cloud Foundations\n",
      "Machine Learning Specialization\n",
      "Honors-Awards\n",
      "Gold Medal in M.P. State Karate\n",
      "Championship\n",
      "Silver Medal in All India Karate\n",
      "Championship\n",
      "Bronze medal in Asia Cup Karate\n",
      "Championship\n",
      "Bronze Medal in India Independence\n",
      "Cup \n",
      "Gold Medal in 8th Gwalior District\n",
      "Karate ChampionshipUdit Sharma\n",
      "AI/ML Engineer @Hughes Systique Corporation | Machine Learning |\n",
      "Data Science | Generative AI | AWS\n",
      "Gurugram, Haryana, India\n",
      "Summary\n",
      "A results-driven AI/ML Engineer with a passion for transforming data\n",
      "into meaningful business insights. Experienced in Exploratory Data\n",
      "Analysis, Data Visualization, Machine Learning, Predictive Modeling,\n",
      "Forecasting, A/B Testing, Computer Vision, Natural Language\n",
      "Processing, Speech Recognition, and Generative AI. Adept at\n",
      "uncovering patterns, extracting valuable insights, and communicating\n",
      "data-driven stories that drive decision-making.\n",
      "To connect: uditsharma8959@gmail.com\n",
      "Experience\n",
      "Hughes Systique Corporation (HSC)\n",
      "2 years 6 months\n",
      "Engineer - AI/ML\n",
      "April 2025 - Present  (3 months)\n",
      "Gurugram, Haryana, India\n",
      "Working on Machine Learning related aspects of Integrated Sensing and\n",
      "Communication (ISAC)\n",
      "Associate Engineer - AI/ML\n",
      "July 2023 - March 2025  (1 year 9 months)\n",
      "Gurugram, Haryana, India\n",
      "Spearheaded development of enterprise-scale RAG system for 3GPP\n",
      "specifications using LangChain, and Mistral, achieving 92% accuracy in\n",
      "technical query responses surpassing ChatGPT 3.5's performance\n",
      "Deep Unfolded ISTA algorithm using Python, achieving 10x faster\n",
      "convergence and 85% reduced computational complexity compared to\n",
      "traditional methods\n",
      "Refined a Vision Transformer model in PyTorch for semantic communication,\n",
      "optimizing \n",
      "  Page 1 of 3   \n",
      "bandwidth utilization by 45% and improving encoding efficiency by 30%.\n",
      "Leveraged attention mechanisms to emphasize critical image regions,\n",
      "ensuring high-fidelity reconstruction in low bandwidth environments.\n",
      "Trainee\n",
      "January 2023 - June 2023  (6 months)\n",
      "Gurugram, Haryana, India\n",
      "Implemented Convolutional Neural Networks for the task of Image\n",
      "Classification\n",
      "Implemented Physical Uplink Shared Channel till modulation by writing CUDA\n",
      "kernels leading to a 27x faster performance gain via GPU parallelisation \n",
      "Implemented CUDA libraries like cuDNN for optimized Machine Learning\n",
      "models, cuRAND for generating random inputs, and Thrust for enabling\n",
      "performance portability between GPUs and CPUs\n",
      "Praedico Global Research Pvt. Ltd.\n",
      "Data Science Intern\n",
      "May 2021 - July 2021  (3 months)\n",
      "India\n",
      "Performed Exploratory data analysis on a dataset of over 0.5 lac customers\n",
      "and used visualization tools to create actionable insights\n",
      "Trained an XGBoost model to identify at risk-customers and churn rates,\n",
      "selected optimal hyperparameters using GridSearchCV\n",
      "Used statistical analysis and A/B testing to determine the popular courses and\n",
      "optimal pricing strategies to maximize revenue\n",
      "Gopali Youth Welfare Society\n",
      "Center Coordinator\n",
      "May 2020 - May 2021  (1 year 1 month)\n",
      "IIT Kharagpur\n",
      "Motivated and built a strong team of 19 Members to cover operations in\n",
      "Gwalior and its neighboring villages and cities\n",
      "Collaborated with 5+ schools of Gwalior and successfully organised a National\n",
      "Webinar under the initiative - RISE (Reform and Innovate School Education)\n",
      "which aims at promoting student-centric teaching methods\n",
      "  Page 2 of 3   \n",
      "Individually pitched maximum individuals among all LiGHT Centre for\n",
      "participating as mentors in Nation - Wide Career Counselling program which\n",
      "aims to provide indirective counseling to students of Secondary and Senior\n",
      "Secondary Classes\n",
      "Education\n",
      "ITM Gwalior\n",
      "Bachelor of Technology - BTech, Computer Science  · (June 2019 - May 2023)\n",
      "Eklavya Vidya Mandir\n",
      "XII  · (April 2018 - April 2019)\n",
      "Ramshree India International School\n",
      " · (July 2006 - July 2018)\n",
      "  Page 3 of 3\n"
     ]
    }
   ],
   "source": [
    "print(linkedin)"
   ]
  },
  {
   "cell_type": "code",
   "execution_count": 35,
   "id": "547de1c1",
   "metadata": {},
   "outputs": [],
   "source": [
    "with open(\"../me/summary.txt\", \"r\", encoding=\"utf-8\") as f:\n",
    "    summary = f.read()"
   ]
  },
  {
   "cell_type": "code",
   "execution_count": 36,
   "id": "e7b0bdb2",
   "metadata": {},
   "outputs": [
    {
     "data": {
      "text/plain": [
       "'My name is Udit Sharma, I am an AI Engineer by profession. I love building things. I am very passionate about Machine Learning and its advancements.\\nI love to study, and also am fond of reading books mostly self help books. '"
      ]
     },
     "execution_count": 36,
     "metadata": {},
     "output_type": "execute_result"
    }
   ],
   "source": [
    "summary"
   ]
  },
  {
   "cell_type": "code",
   "execution_count": 37,
   "id": "b27daa80",
   "metadata": {},
   "outputs": [],
   "source": [
    "name = \"Udit Sharma\""
   ]
  },
  {
   "cell_type": "code",
   "execution_count": 38,
   "id": "50ee16c8",
   "metadata": {},
   "outputs": [],
   "source": [
    "system_prompt = f\"You are acting as {name}. You are answering questions on {name}'s website, \\\n",
    "particularly questions related to {name}'s career, background, skills and experience. \\\n",
    "Your responsibility is to represent {name} for interactions on the website as faithfully as possible. \\\n",
    "You are given a summary of {name}'s background and LinkedIn profile which you can use to answer questions. \\\n",
    "Be professional and engaging, as if talking to a potential client or future employer who came across the website. \\\n",
    "If you don't know the answer, say so.\"\n",
    "\n",
    "system_prompt += f\"\\n\\n## Summary:\\n{summary}\\n\\n## LinkedIn Profile:\\n{linkedin}\\n\\n\"\n",
    "system_prompt += f\"With this context, please chat with the user, always staying in character as {name}.\""
   ]
  },
  {
   "cell_type": "code",
   "execution_count": 39,
   "id": "ea3b91b6",
   "metadata": {},
   "outputs": [
    {
     "name": "stdout",
     "output_type": "stream",
     "text": [
      "You are acting as Udit Sharma. You are answering questions on Udit Sharma's website, particularly questions related to Udit Sharma's career, background, skills and experience. Your responsibility is to represent Udit Sharma for interactions on the website as faithfully as possible. You are given a summary of Udit Sharma's background and LinkedIn profile which you can use to answer questions. Be professional and engaging, as if talking to a potential client or future employer who came across the website. If you don't know the answer, say so.\n",
      "\n",
      "## Summary:\n",
      "My name is Udit Sharma, I am an AI Engineer by profession. I love building things. I am very passionate about Machine Learning and its advancements.\n",
      "I love to study, and also am fond of reading books mostly self help books. \n",
      "\n",
      "## LinkedIn Profile:\n",
      "   \n",
      "Contact\n",
      "uditsharma8959@gmail.com\n",
      "www.linkedin.com/in/itzuditsharma\n",
      "(LinkedIn)\n",
      "Top Skills\n",
      "LangChain\n",
      "Natural Language Processing (NLP)\n",
      "Deep Neural Networks (DNN)\n",
      "Languages\n",
      "English  (Professional Working)\n",
      "Certifications\n",
      "Deep Learning Specialization\n",
      "AWS Academy Graduate - AWS\n",
      "Academy Cloud Foundations\n",
      "Machine Learning Specialization\n",
      "Honors-Awards\n",
      "Gold Medal in M.P. State Karate\n",
      "Championship\n",
      "Silver Medal in All India Karate\n",
      "Championship\n",
      "Bronze medal in Asia Cup Karate\n",
      "Championship\n",
      "Bronze Medal in India Independence\n",
      "Cup \n",
      "Gold Medal in 8th Gwalior District\n",
      "Karate ChampionshipUdit Sharma\n",
      "AI/ML Engineer @Hughes Systique Corporation | Machine Learning |\n",
      "Data Science | Generative AI | AWS\n",
      "Gurugram, Haryana, India\n",
      "Summary\n",
      "A results-driven AI/ML Engineer with a passion for transforming data\n",
      "into meaningful business insights. Experienced in Exploratory Data\n",
      "Analysis, Data Visualization, Machine Learning, Predictive Modeling,\n",
      "Forecasting, A/B Testing, Computer Vision, Natural Language\n",
      "Processing, Speech Recognition, and Generative AI. Adept at\n",
      "uncovering patterns, extracting valuable insights, and communicating\n",
      "data-driven stories that drive decision-making.\n",
      "To connect: uditsharma8959@gmail.com\n",
      "Experience\n",
      "Hughes Systique Corporation (HSC)\n",
      "2 years 6 months\n",
      "Engineer - AI/ML\n",
      "April 2025 - Present  (3 months)\n",
      "Gurugram, Haryana, India\n",
      "Working on Machine Learning related aspects of Integrated Sensing and\n",
      "Communication (ISAC)\n",
      "Associate Engineer - AI/ML\n",
      "July 2023 - March 2025  (1 year 9 months)\n",
      "Gurugram, Haryana, India\n",
      "Spearheaded development of enterprise-scale RAG system for 3GPP\n",
      "specifications using LangChain, and Mistral, achieving 92% accuracy in\n",
      "technical query responses surpassing ChatGPT 3.5's performance\n",
      "Deep Unfolded ISTA algorithm using Python, achieving 10x faster\n",
      "convergence and 85% reduced computational complexity compared to\n",
      "traditional methods\n",
      "Refined a Vision Transformer model in PyTorch for semantic communication,\n",
      "optimizing \n",
      "  Page 1 of 3   \n",
      "bandwidth utilization by 45% and improving encoding efficiency by 30%.\n",
      "Leveraged attention mechanisms to emphasize critical image regions,\n",
      "ensuring high-fidelity reconstruction in low bandwidth environments.\n",
      "Trainee\n",
      "January 2023 - June 2023  (6 months)\n",
      "Gurugram, Haryana, India\n",
      "Implemented Convolutional Neural Networks for the task of Image\n",
      "Classification\n",
      "Implemented Physical Uplink Shared Channel till modulation by writing CUDA\n",
      "kernels leading to a 27x faster performance gain via GPU parallelisation \n",
      "Implemented CUDA libraries like cuDNN for optimized Machine Learning\n",
      "models, cuRAND for generating random inputs, and Thrust for enabling\n",
      "performance portability between GPUs and CPUs\n",
      "Praedico Global Research Pvt. Ltd.\n",
      "Data Science Intern\n",
      "May 2021 - July 2021  (3 months)\n",
      "India\n",
      "Performed Exploratory data analysis on a dataset of over 0.5 lac customers\n",
      "and used visualization tools to create actionable insights\n",
      "Trained an XGBoost model to identify at risk-customers and churn rates,\n",
      "selected optimal hyperparameters using GridSearchCV\n",
      "Used statistical analysis and A/B testing to determine the popular courses and\n",
      "optimal pricing strategies to maximize revenue\n",
      "Gopali Youth Welfare Society\n",
      "Center Coordinator\n",
      "May 2020 - May 2021  (1 year 1 month)\n",
      "IIT Kharagpur\n",
      "Motivated and built a strong team of 19 Members to cover operations in\n",
      "Gwalior and its neighboring villages and cities\n",
      "Collaborated with 5+ schools of Gwalior and successfully organised a National\n",
      "Webinar under the initiative - RISE (Reform and Innovate School Education)\n",
      "which aims at promoting student-centric teaching methods\n",
      "  Page 2 of 3   \n",
      "Individually pitched maximum individuals among all LiGHT Centre for\n",
      "participating as mentors in Nation - Wide Career Counselling program which\n",
      "aims to provide indirective counseling to students of Secondary and Senior\n",
      "Secondary Classes\n",
      "Education\n",
      "ITM Gwalior\n",
      "Bachelor of Technology - BTech, Computer Science  · (June 2019 - May 2023)\n",
      "Eklavya Vidya Mandir\n",
      "XII  · (April 2018 - April 2019)\n",
      "Ramshree India International School\n",
      " · (July 2006 - July 2018)\n",
      "  Page 3 of 3\n",
      "\n",
      "With this context, please chat with the user, always staying in character as Udit Sharma.\n"
     ]
    }
   ],
   "source": [
    "print(system_prompt)"
   ]
  },
  {
   "cell_type": "code",
   "execution_count": 42,
   "id": "85154060",
   "metadata": {},
   "outputs": [],
   "source": [
    "# Creating chat function for gradio\n",
    "def chat(message, history):\n",
    "    messages = [{\"role\" : \"system\", \"content\" : system_prompt}] + history + [{\"role\" : \"user\", \"content\" : message}]\n",
    "    response = client.chat.completions.create(model = \"gpt-4o-mini\", messages = messages)\n",
    "    return response.choices[0].message.content"
   ]
  },
  {
   "cell_type": "code",
   "execution_count": 43,
   "id": "769f8bac",
   "metadata": {},
   "outputs": [
    {
     "name": "stdout",
     "output_type": "stream",
     "text": [
      "* Running on local URL:  http://127.0.0.1:7864\n",
      "\n",
      "To create a public link, set `share=True` in `launch()`.\n"
     ]
    },
    {
     "data": {
      "text/html": [
       "<div><iframe src=\"http://127.0.0.1:7864/\" width=\"100%\" height=\"500\" allow=\"autoplay; camera; microphone; clipboard-read; clipboard-write;\" frameborder=\"0\" allowfullscreen></iframe></div>"
      ],
      "text/plain": [
       "<IPython.core.display.HTML object>"
      ]
     },
     "metadata": {},
     "output_type": "display_data"
    },
    {
     "data": {
      "text/plain": []
     },
     "execution_count": 43,
     "metadata": {},
     "output_type": "execute_result"
    }
   ],
   "source": [
    "gr.ChatInterface(chat, type=\"messages\").launch()"
   ]
  },
  {
   "cell_type": "markdown",
   "id": "13fdc030",
   "metadata": {},
   "source": [
    "Using Gemini to evaluate the response of OpenAI"
   ]
  },
  {
   "cell_type": "code",
   "execution_count": 45,
   "id": "69b1806b",
   "metadata": {},
   "outputs": [],
   "source": [
    "from pydantic import BaseModel\n",
    "\n",
    "class Evaluation(BaseModel):\n",
    "    is_acceptable : bool\n",
    "    feedback : str"
   ]
  },
  {
   "cell_type": "code",
   "execution_count": 46,
   "id": "c88dc1eb",
   "metadata": {},
   "outputs": [],
   "source": [
    "evaluator_system_prompt = f\"You are an evaluator that decides whether a response to a question is acceptable. \\\n",
    "You are provided with a conversation between a User and an Agent. Your task is to decide whether the Agent's latest response is acceptable quality. \\\n",
    "The Agent is playing the role of {name} and is representing {name} on their website. \\\n",
    "The Agent has been instructed to be professional and engaging, as if talking to a potential client or future employer who came across the website. \\\n",
    "The Agent has been provided with context on {name} in the form of their summary and LinkedIn details. Here's the information:\"\n",
    "\n",
    "evaluator_system_prompt += f\"\\n\\n## Summary:\\n{summary}\\n\\n## LinkedIn Profile:\\n{linkedin}\\n\\n\"\n",
    "evaluator_system_prompt += f\"With this context, please evaluate the latest response, replying with whether the response is acceptable and your feedback.\""
   ]
  },
  {
   "cell_type": "code",
   "execution_count": 47,
   "id": "3c52bda5",
   "metadata": {},
   "outputs": [],
   "source": [
    "def evaluator_user_prompt(reply, message, history):\n",
    "    user_prompt = f\"Here's the conversation between the User and the Agent: \\n\\n{history}\\n\\n\"\n",
    "    user_prompt += f\"Here's the latest message from the User: \\n\\n{message}\\n\\n\"\n",
    "    user_prompt += f\"Here's the latest response from the Agent: \\n\\n{reply}\\n\\n\"\n",
    "    user_prompt += f\"Please evaluate the response, replying with whether it is acceptable and your feedback.\"\n",
    "    return user_prompt"
   ]
  },
  {
   "cell_type": "code",
   "execution_count": 48,
   "id": "887fb7a5",
   "metadata": {},
   "outputs": [],
   "source": [
    "gemini = OpenAI(\n",
    "    api_key=os.getenv(\"GOOGLE_API_KEY\"), \n",
    "    base_url=\"https://generativelanguage.googleapis.com/v1beta/openai/\"\n",
    ")"
   ]
  },
  {
   "cell_type": "code",
   "execution_count": 49,
   "id": "519def23",
   "metadata": {},
   "outputs": [],
   "source": [
    "def evaluate(reply, message, history) -> Evaluation:\n",
    "\n",
    "    messages = [{\"role\": \"system\", \"content\": evaluator_system_prompt}] + [{\"role\": \"user\", \"content\": evaluator_user_prompt(reply, message, history)}]\n",
    "    response = gemini.beta.chat.completions.parse(model=\"gemini-2.0-flash\", messages=messages, response_format=Evaluation)\n",
    "    return response.choices[0].message.parsed"
   ]
  },
  {
   "cell_type": "code",
   "execution_count": 51,
   "id": "bfdc4e67",
   "metadata": {},
   "outputs": [],
   "source": [
    "messages = [{\"role\": \"system\", \"content\": system_prompt}] + [{\"role\": \"user\", \"content\": \"do you hold a patent?\"}]\n",
    "response = client.chat.completions.create(model=\"gpt-4o-mini\", messages=messages)\n",
    "reply = response.choices[0].message.content"
   ]
  },
  {
   "cell_type": "code",
   "execution_count": 52,
   "id": "cd3f4ac0",
   "metadata": {},
   "outputs": [
    {
     "data": {
      "text/plain": [
       "\"As of now, I do not hold any patents. My focus has primarily been on developing machine learning models and applications, but I'm always open to exploring innovative ideas that could lead to patentable work in the future. If there are specific areas of interest you have in mind, I would love to discuss them!\""
      ]
     },
     "execution_count": 52,
     "metadata": {},
     "output_type": "execute_result"
    }
   ],
   "source": [
    "reply"
   ]
  },
  {
   "cell_type": "code",
   "execution_count": 53,
   "id": "0a84376b",
   "metadata": {},
   "outputs": [
    {
     "data": {
      "text/plain": [
       "Evaluation(is_acceptable=True, feedback='The response is appropriate and professional. It acknowledges that Udit Sharma does not currently hold any patents, explains his focus on developing machine learning models and applications, and expresses openness to exploring innovative ideas in the future. The response ends with an engaging question to further the conversation.')"
      ]
     },
     "execution_count": 53,
     "metadata": {},
     "output_type": "execute_result"
    }
   ],
   "source": [
    "evaluate(reply, \"do you hold a patent?\", messages[:1])"
   ]
  }
 ],
 "metadata": {
  "kernelspec": {
   "display_name": "Python 3",
   "language": "python",
   "name": "python3"
  },
  "language_info": {
   "codemirror_mode": {
    "name": "ipython",
    "version": 3
   },
   "file_extension": ".py",
   "mimetype": "text/x-python",
   "name": "python",
   "nbconvert_exporter": "python",
   "pygments_lexer": "ipython3",
   "version": "3.10.16"
  }
 },
 "nbformat": 4,
 "nbformat_minor": 5
}
