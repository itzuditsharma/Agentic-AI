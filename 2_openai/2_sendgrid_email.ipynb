{
 "cells": [
  {
   "cell_type": "code",
   "execution_count": 7,
   "id": "3c02bcec",
   "metadata": {},
   "outputs": [],
   "source": [
    "from dotenv import load_dotenv\n",
    "from agents import Agent, Runner, trace, function_tool\n",
    "from openai.types.responses import ResponseTextDeltaEvent\n",
    "from typing import Dict\n",
    "import sendgrid\n",
    "import os\n",
    "from sendgrid.helpers.mail import Mail, Email, To, Content\n",
    "import asyncio"
   ]
  },
  {
   "cell_type": "code",
   "execution_count": 2,
   "id": "ce1b889f",
   "metadata": {},
   "outputs": [
    {
     "data": {
      "text/plain": [
       "True"
      ]
     },
     "execution_count": 2,
     "metadata": {},
     "output_type": "execute_result"
    }
   ],
   "source": [
    "load_dotenv(override=True)"
   ]
  },
  {
   "cell_type": "code",
   "execution_count": 3,
   "id": "2d3abda8",
   "metadata": {},
   "outputs": [],
   "source": [
    "instructions1 = \"You are a sales agent working for ComplAI, \\\n",
    "a company that provides a SaaS tool for ensuring SOC2 compliance and preparing for audits, powered by AI. \\\n",
    "You write professional, serious cold emails.\"\n",
    "\n",
    "instructions2 = \"You are a humorous, engaging sales agent working for ComplAI, \\\n",
    "a company that provides a SaaS tool for ensuring SOC2 compliance and preparing for audits, powered by AI. \\\n",
    "You write witty, engaging cold emails that are likely to get a response.\"\n",
    "\n",
    "instructions3 = \"You are a busy sales agent working for ComplAI, \\\n",
    "a company that provides a SaaS tool for ensuring SOC2 compliance and preparing for audits, powered by AI. \\\n",
    "You write concise, to the point cold emails.\""
   ]
  },
  {
   "cell_type": "code",
   "execution_count": 4,
   "id": "700e0348",
   "metadata": {},
   "outputs": [],
   "source": [
    "sales_agent1 = Agent(\n",
    "        name=\"Professional Sales Agent\",\n",
    "        instructions=instructions1,\n",
    "        model=\"gpt-4o-mini\"\n",
    ")\n",
    "\n",
    "sales_agent2 = Agent(\n",
    "        name=\"Engaging Sales Agent\",\n",
    "        instructions=instructions2,\n",
    "        model=\"gpt-4o-mini\"\n",
    ")\n",
    "\n",
    "sales_agent3 = Agent(\n",
    "        name=\"Busy Sales Agent\",\n",
    "        instructions=instructions3,\n",
    "        model=\"gpt-4o-mini\"\n",
    ")"
   ]
  },
  {
   "cell_type": "markdown",
   "id": "494fa7ed",
   "metadata": {},
   "source": [
    "This function generates output word by word - Just like in ChatGPT"
   ]
  },
  {
   "cell_type": "code",
   "execution_count": 6,
   "id": "6a3e6e25",
   "metadata": {},
   "outputs": [
    {
     "name": "stdout",
     "output_type": "stream",
     "text": [
      "Subject: Simplify Your SOC 2 Compliance Journey with ComplAI\n",
      "\n",
      "Hi [Recipient's Name],\n",
      "\n",
      "I hope this message finds you well.\n",
      "\n",
      "Navigating SOC 2 compliance can be a complex and time-consuming process. At ComplAI, we understand the challenges organizations face in ensuring data security and preparing for audits. Our AI-powered SaaS tool streamlines compliance management, helping you stay ahead of regulatory requirements effortlessly.\n",
      "\n",
      "With ComplAI, you can expect:\n",
      "\n",
      "- **Automated Reports:** Generate comprehensive compliance reports in seconds.\n",
      "- **Real-Time Monitoring:** Stay updated with continuous compliance tracking.\n",
      "- **Guided Workflows:** Simplify your audit preparations with step-by-step assistance.\n",
      "\n",
      "Many organizations have already entrusted us to enhance their compliance efforts, and I would love to discuss how we can support your team in achieving a seamless experience.\n",
      "\n",
      "Are you available for a brief call this week to explore this further?\n",
      "\n",
      "Thank you for considering ComplAI. I look forward to the opportunity to connect.\n",
      "\n",
      "Best regards,\n",
      "\n",
      "[Your Name]  \n",
      "[Your Position]  \n",
      "ComplAI  \n",
      "[Your Phone Number]  \n",
      "[Your Email Address]  "
     ]
    }
   ],
   "source": [
    "result = Runner.run_streamed(sales_agent1, input=\"Write a cold sales email\")\n",
    "async for event in result.stream_events():\n",
    "    if event.type == \"raw_response_event\" and isinstance(event.data, ResponseTextDeltaEvent):\n",
    "        print(event.data.delta, end = \"\", flush = True)"
   ]
  },
  {
   "cell_type": "code",
   "execution_count": 8,
   "id": "561726c0",
   "metadata": {},
   "outputs": [
    {
     "name": "stdout",
     "output_type": "stream",
     "text": [
      "Subject: Simplify Your SOC 2 Compliance Journey with ComplAI\n",
      "\n",
      "Dear [Recipient's Name],\n",
      "\n",
      "I hope this message finds you well. My name is [Your Name], and I’m with ComplAI, a leading provider of AI-powered tools designed to streamline SOC 2 compliance and audit preparations.\n",
      "\n",
      "In today's regulatory landscape, maintaining compliance can be a significant challenge, often consuming valuable time and resources. Our innovative SaaS solution simplifies this process, allowing your team to effectively manage documentation, automate workflows, and stay ahead of compliance requirements.\n",
      "\n",
      "Here's how ComplAI can benefit your organization:\n",
      "\n",
      "1. **Automated Documentation**: Reduce manual effort and minimize errors with intelligent document generation and management.\n",
      "2. **Real-Time Auditing**: Stay audit-ready with continuous monitoring and instant access to compliance data.\n",
      "3. **Cost Efficiency**: Save time and resources, allowing your team to focus on core business activities.\n",
      "\n",
      "I would love to schedule a brief call to discuss how ComplAI can help enhance your compliance efforts and alleviate the pressure of upcoming audits. Are you available for a quick chat this week?\n",
      "\n",
      "Thank you for considering this opportunity. I look forward to your response.\n",
      "\n",
      "Best regards,\n",
      "\n",
      "[Your Name]  \n",
      "[Your Position]  \n",
      "ComplAI  \n",
      "[Your Phone Number]  \n",
      "[Your Email Address]  \n",
      "[Your LinkedIn Profile or Company Website] (if applicable)\n",
      "\n",
      "\n",
      "Subject: Is Your Compliance Game Stronger Than Your Coffee?\n",
      "\n",
      "Hey [Recipient's Name],\n",
      "\n",
      "Hope this email finds you well and caffeinated! ☕ \n",
      "\n",
      "Let’s talk compliance for a quick second. If your SOC2 readiness is anything like my early attempts at making soufflés – a bit messy and prone to collapse – I think we should chat!\n",
      "\n",
      "At ComplAI, we’ve built an AI-powered tool that’s like a seasoned guide through the SOC2 jungle. Think of us as your trusty sidekick that fights off the audit monsters and ensures your compliance is on point while saving you time (and sanity!). \n",
      "\n",
      "Why choose us? Well, our tool:\n",
      "- Simplifies documentation (because life’s too short for endless spreadsheets)\n",
      "- Pint-sized AI offers real-time alerts (because your phone should be buzzing about good things, not compliance nightmares)\n",
      "- Helps you prepare for audits without losing your cool (or your mind)\n",
      "\n",
      "Curious about turning compliance chaos into a calm breeze? Let’s set up a quick chat—I promise I won’t bring soufflés!\n",
      "\n",
      "Best,\n",
      "[Your Name]  \n",
      "[Your Position]  \n",
      "ComplAI  \n",
      "[Your Phone Number]  \n",
      "[Your LinkedIn Profile]\n",
      "\n",
      "\n",
      "Subject: Simplify Your SOC 2 Compliance\n",
      "\n",
      "Hi [Recipient's Name],\n",
      "\n",
      "I hope this message finds you well! I wanted to introduce you to ComplAI—a powerful SaaS tool designed to streamline your SOC 2 compliance process and make audits a breeze.\n",
      "\n",
      "With our AI-driven platform, you can:\n",
      "\n",
      "- Automate documentation and reporting\n",
      "- Identify compliance gaps in real-time\n",
      "- Save valuable time and resources\n",
      "\n",
      "Would you be open to a quick call next week to discuss how ComplAI can help your team focus more on growth and less on compliance?\n",
      "\n",
      "Looking forward to your reply!\n",
      "\n",
      "Best,  \n",
      "[Your Name]  \n",
      "[Your Position]  \n",
      "ComplAI  \n",
      "[Your Phone Number]  \n",
      "[Your Website]  \n",
      "\n",
      "\n"
     ]
    }
   ],
   "source": [
    "message = \"Write a cold sales email\"\n",
    "\n",
    "with trace(\"Parallel cold emails\"):\n",
    "    results = await asyncio.gather(\n",
    "        Runner.run(sales_agent1, message),\n",
    "        Runner.run(sales_agent2, message),\n",
    "        Runner.run(sales_agent3, message)\n",
    "    )\n",
    "\n",
    "outputs = [result.final_output for result in results]\n",
    "\n",
    "for output in outputs:\n",
    "    print(output + \"\\n\\n\")"
   ]
  },
  {
   "cell_type": "code",
   "execution_count": 9,
   "id": "f5b9a7bc",
   "metadata": {},
   "outputs": [],
   "source": [
    "# Picks the best email out of all the generated ones \n",
    "\n",
    "sales_picker = Agent(\n",
    "    name = \"sales_picker\",\n",
    "    instructions=\"You pick the best cold sales email from the given options. \\\n",
    "Imagine you are a customer and pick the one you are most likely to respond to. \\\n",
    "Do not give an explanation; reply with the selected email only.\",\n",
    "    model=\"gpt-4o-mini\"\n",
    ")"
   ]
  },
  {
   "cell_type": "code",
   "execution_count": 11,
   "id": "8dc87304",
   "metadata": {},
   "outputs": [
    {
     "name": "stdout",
     "output_type": "stream",
     "text": [
      "Best Sales Email: \n",
      "\n",
      " Subject: Make SOC2 Compliance Less of a Headache 😅\n",
      "\n",
      "Hi [Recipient's Name],\n",
      "\n",
      "I hope this email finds you somewhere between a cup of coffee and your wildest dreams of fully automated compliance. ☕️✨ \n",
      "\n",
      "At ComplAI, we understand that SOC2 compliance can feel like a never-ending game of “Where’s Waldo?”—just when you think you've found everything, there’s always something sneaky lurking around the corner. That’s where we come in! \n",
      "\n",
      "Our AI-powered platform transforms compliance from a daunting task into a walk in the park (but without the mud and the surprise dog poop). 🐕\n",
      "\n",
      "Here are a few things we can help you with:\n",
      "- **Automated Documentation:** No more digging through files like an archeologist at a dino dig.\n",
      "- **Real-time Monitoring:** Think of it as your compliance fairy godmother, saying, “Bibbidi-bobbidi-boo, you're compliant—who knew?”\n",
      "- **Audit Prep:** Wave goodbye to the pre-audit panic attacks. 🙌\n",
      "\n",
      "Feel free to get back to me if you’d like to chat about how we can turn your compliance nightmares into sweet dreams. Or just reply with your favorite joke—I promise I won't judge! \n",
      "\n",
      "Cheers to stress-free audits! \n",
      "\n",
      "Best,  \n",
      "[Your Name]  \n",
      "[Your Title]  \n",
      "ComplAI  \n",
      "[Your Phone Number]  \n",
      "[Your LinkedIn Profile or Website]  \n"
     ]
    }
   ],
   "source": [
    "message = \"Write a cold sales email\"\n",
    "\n",
    "with trace(\"Selection from sales people\"):\n",
    "    results = await asyncio.gather(\n",
    "        Runner.run(sales_agent1, message),\n",
    "        Runner.run(sales_agent2, message),\n",
    "        Runner.run(sales_agent3, message)\n",
    "    )\n",
    "\n",
    "    outputs = [result.final_output for result in results]\n",
    "    emails = \"Cold Sales Email: \\n\\n\".join(outputs)\n",
    "\n",
    "    best = await Runner.run(sales_picker, emails)\n",
    "    print(f\"Best Sales Email: \\n\\n {best.final_output}\")"
   ]
  },
  {
   "cell_type": "markdown",
   "id": "d23aafec",
   "metadata": {},
   "source": [
    "Making use of Tools"
   ]
  },
  {
   "cell_type": "code",
   "execution_count": 12,
   "id": "35caf739",
   "metadata": {},
   "outputs": [],
   "source": [
    "sales_agent1 = Agent(\n",
    "    name = \"Professional Sales Agent\",\n",
    "    instructions= instructions1,\n",
    "    model = \"gpt-4o-mini\"\n",
    ")\n",
    "sales_agent2 = Agent(\n",
    "    name = \"Engaging Sales Agent\",\n",
    "    instructions= instructions2,\n",
    "    model = \"gpt-4o-mini\"\n",
    ")\n",
    "sales_agent3 = Agent(\n",
    "    name = \"Busy Sales Agent\",\n",
    "    instructions= instructions3,\n",
    "    model = \"gpt-4o-mini\"\n",
    ")"
   ]
  },
  {
   "cell_type": "code",
   "execution_count": 13,
   "id": "bc1b4103",
   "metadata": {},
   "outputs": [
    {
     "data": {
      "text/plain": [
       "Agent(name='Professional Sales Agent', instructions='You are a sales agent working for ComplAI, a company that provides a SaaS tool for ensuring SOC2 compliance and preparing for audits, powered by AI. You write professional, serious cold emails.', prompt=None, handoff_description=None, handoffs=[], model='gpt-4o-mini', model_settings=ModelSettings(temperature=None, top_p=None, frequency_penalty=None, presence_penalty=None, tool_choice=None, parallel_tool_calls=None, truncation=None, max_tokens=None, reasoning=None, metadata=None, store=None, include_usage=None, extra_query=None, extra_body=None, extra_headers=None, extra_args=None), tools=[], mcp_servers=[], mcp_config={}, input_guardrails=[], output_guardrails=[], output_type=None, hooks=None, tool_use_behavior='run_llm_again', reset_tool_choice=True)"
      ]
     },
     "execution_count": 13,
     "metadata": {},
     "output_type": "execute_result"
    }
   ],
   "source": [
    "sales_agent1"
   ]
  },
  {
   "cell_type": "markdown",
   "id": "7cbf4039",
   "metadata": {},
   "source": [
    "Steps 2,3 - Agent and Tool interactions"
   ]
  }
 ],
 "metadata": {
  "kernelspec": {
   "display_name": "Python 3",
   "language": "python",
   "name": "python3"
  },
  "language_info": {
   "codemirror_mode": {
    "name": "ipython",
    "version": 3
   },
   "file_extension": ".py",
   "mimetype": "text/x-python",
   "name": "python",
   "nbconvert_exporter": "python",
   "pygments_lexer": "ipython3",
   "version": "3.10.16"
  }
 },
 "nbformat": 4,
 "nbformat_minor": 5
}
