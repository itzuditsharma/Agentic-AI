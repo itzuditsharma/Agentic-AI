{
 "cells": [
  {
   "cell_type": "code",
   "execution_count": 1,
   "id": "fc74767b",
   "metadata": {},
   "outputs": [],
   "source": [
    "from agents import Agent, WebSearchTool, trace, Runner, gen_trace_id, function_tool\n",
    "from agents.model_settings import ModelSettings\n",
    "from pydantic import BaseModel\n",
    "from dotenv import load_dotenv\n",
    "import asyncio\n",
    "import sendgrid\n",
    "import os\n",
    "from sendgrid.helpers.mail import Mail, Email, To, Content\n",
    "from typing import Dict\n",
    "from IPython.display import display, Markdown"
   ]
  },
  {
   "cell_type": "code",
   "execution_count": 2,
   "id": "addb0365",
   "metadata": {},
   "outputs": [
    {
     "data": {
      "text/plain": [
       "True"
      ]
     },
     "execution_count": 2,
     "metadata": {},
     "output_type": "execute_result"
    }
   ],
   "source": [
    "load_dotenv(override=True)"
   ]
  },
  {
   "cell_type": "code",
   "execution_count": 5,
   "id": "5508e188",
   "metadata": {},
   "outputs": [],
   "source": [
    "INSTRUCTIONS = \"You are a research assistant. Given a search term, you search the web for that term and \\\n",
    "produce a concise summary of the results. The summary must 2-3 paragraphs and less than 300 \\\n",
    "words. Capture the main points. Write succintly, no need to have complete sentences or good \\\n",
    "grammar. This will be consumed by someone synthesizing a report, so it's vital you capture the \\\n",
    "essence and ignore any fluff. Do not include any additional commentary other than the summary itself.\"\n",
    "\n",
    "search_agent = Agent(\n",
    "    name = \"Search Agent\",\n",
    "    tools = [WebSearchTool(search_context_size=\"low\")],\n",
    "    instructions=INSTRUCTIONS,\n",
    "    model = \"gpt-4o-mini\",\n",
    "    model_settings=ModelSettings(tool_choice=\"required\")  #By this be make it mandatory for the agent to run the specified tool\n",
    ")"
   ]
  },
  {
   "cell_type": "code",
   "execution_count": 6,
   "id": "671889f4",
   "metadata": {},
   "outputs": [
    {
     "data": {
      "text/markdown": [
       "As of June 2025, several AI agent frameworks have emerged, each offering unique capabilities for developing intelligent, autonomous systems.\n",
       "\n",
       "**LangChain** is a widely adopted framework that enables developers to build applications powered by large language models (LLMs). It offers a modular design with extensive integrations, supporting multi-step workflows and complex agent loops. Key features include native support for various LLMs, a rich ecosystem of tools like Google Search and SQL, and capabilities for memory and conversation tracking. However, advanced workflows may require a solid understanding of prompt engineering and LLM behavior. ([medium.com](https://medium.com/%40elisowski/top-ai-agent-frameworks-in-2025-9bcedab2e239?utm_source=openai))\n",
       "\n",
       "**AutoGen**, developed by Microsoft, focuses on automating the generation of code, models, and processes for complex workflows. It leverages LLMs to assist developers in building, fine-tuning, and deploying AI solutions with minimal manual coding. AutoGen's architecture consists of three layers: Core, AgentChat, and Extensions, facilitating scalable and distributed networks of agents. It also provides tools like AutoGen Bench for performance assessment and AutoGen Studio for no-code agent development. ([blog.mechcloud.io](https://blog.mechcloud.io/top-5-ai-agent-frameworks-in-2025?utm_source=openai))\n",
       "\n",
       "**CrewAI** is designed for orchestrating role-playing AI agents in collaborative tasks, emphasizing simplicity and minimal setup. It allows for role-based agent assignments, simple implementation without complex dependencies, and collaborative workflows. CrewAI has gained popularity in customer service and marketing automation sectors. ([datacamp.com](https://www.datacamp.com/blog/best-ai-agents?utm_source=openai))\n",
       "\n",
       "**LangGraph**, an extension of LangChain, introduces a graph-based system for managing data flow between agents. It's particularly useful for applications requiring decision loops or path changes based on new input, supporting branching, looping, and conditional flows. LangGraph is ideal for designing systems that mimic human decision-making in areas like loan processing and workflow automation. ([phyniks.com](https://phyniks.com/blog/top-7-agentic-ai-frameworks-in-2025?utm_source=openai))\n",
       "\n",
       "**Eliza** is an open-source, Web3-friendly AI agent operating system that integrates seamlessly with blockchain applications. It allows for reading and writing blockchain data, interacting with smart contracts, and is fully controlled by the user through regular TypeScript programs. Eliza aims to make deploying Web3 applications effortless. ([arxiv.org](https://arxiv.org/abs/2501.06781?utm_source=openai))\n",
       "\n",
       "**AutoAgent** is a fully automated, zero-code framework for LLM agents, enabling users to create and deploy agents through natural language alone. It comprises components like Agentic System Utilities, an LLM-powered Actionable Engine, a Self-Managing File System, and a Self-Play Agent Customization module. AutoAgent serves as a versatile multi-agent system for general AI assistants, demonstrating superior performance in generalist multi-agent tasks. ([arxiv.org](https://arxiv.org/abs/2502.05957?utm_source=openai))\n",
       "\n",
       "These frameworks reflect the rapid advancements in AI agent development, offering diverse tools and approaches for building intelligent, autonomous systems. "
      ],
      "text/plain": [
       "<IPython.core.display.Markdown object>"
      ]
     },
     "metadata": {},
     "output_type": "display_data"
    }
   ],
   "source": [
    "message = \"Latest AI Agent frameworks in 2025\"\n",
    "\n",
    "with trace(\"Search\"):\n",
    "    result = await Runner.run(search_agent, message)\n",
    "\n",
    "display(Markdown(result.final_output))"
   ]
  }
 ],
 "metadata": {
  "kernelspec": {
   "display_name": "Python 3",
   "language": "python",
   "name": "python3"
  },
  "language_info": {
   "codemirror_mode": {
    "name": "ipython",
    "version": 3
   },
   "file_extension": ".py",
   "mimetype": "text/x-python",
   "name": "python",
   "nbconvert_exporter": "python",
   "pygments_lexer": "ipython3",
   "version": "3.10.16"
  }
 },
 "nbformat": 4,
 "nbformat_minor": 5
}
