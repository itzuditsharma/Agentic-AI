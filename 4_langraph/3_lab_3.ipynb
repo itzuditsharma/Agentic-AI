{
 "cells": [
  {
   "cell_type": "code",
   "execution_count": 1,
   "id": "66920603",
   "metadata": {},
   "outputs": [
    {
     "name": "stderr",
     "output_type": "stream",
     "text": [
      "e:\\ML Projects\\Autogen-AgentAI\\venv\\lib\\site-packages\\tqdm\\auto.py:21: TqdmWarning: IProgress not found. Please update jupyter and ipywidgets. See https://ipywidgets.readthedocs.io/en/stable/user_install.html\n",
      "  from .autonotebook import tqdm as notebook_tqdm\n"
     ]
    }
   ],
   "source": [
    "from typing import Annotated\n",
    "from typing_extensions import TypedDict\n",
    "from langgraph.graph import StateGraph, START\n",
    "from langgraph.graph.message import add_messages\n",
    "from dotenv import load_dotenv\n",
    "from IPython.display import Image, display\n",
    "import gradio as gr\n",
    "from langgraph.prebuilt import ToolNode, tools_condition\n",
    "import requests\n",
    "import os\n",
    "from langchain.agents import Tool\n",
    "\n",
    "from langchain_openai import ChatOpenAI\n",
    "from langgraph.checkpoint.memory import MemorySaver"
   ]
  },
  {
   "cell_type": "code",
   "execution_count": 2,
   "id": "613c655b",
   "metadata": {},
   "outputs": [
    {
     "data": {
      "text/plain": [
       "True"
      ]
     },
     "execution_count": 2,
     "metadata": {},
     "output_type": "execute_result"
    }
   ],
   "source": [
    "load_dotenv(override=True)"
   ]
  },
  {
   "cell_type": "code",
   "execution_count": 3,
   "id": "53954643",
   "metadata": {},
   "outputs": [],
   "source": [
    "class State(TypedDict):\n",
    "    messages: Annotated[list, add_messages]\n",
    "\n",
    "graph_builder = StateGraph(State)"
   ]
  },
  {
   "cell_type": "code",
   "execution_count": 4,
   "id": "6e9f0227",
   "metadata": {},
   "outputs": [],
   "source": [
    "pushover_token = os.getenv(\"PUSHOVER_TOKEN\")\n",
    "pushover_user = os.getenv(\"PUSHOVER_USER\")\n",
    "pushover_url = \"https://api.pushover.net/1/messages.json\"\n",
    "\n",
    "def push(text: str):\n",
    "    \"Send a push notification to the user\"\n",
    "    requests.post(pushover_url, data = {\"token\" : pushover_token, \"user\" : pushover_user, \"message\" : text})\n",
    "\n",
    "tool_push = Tool(\n",
    "    name = \"send_push_notification\",\n",
    "    func = push,\n",
    "    description=\"useful when you want to senf push notifications\"\n",
    ")"
   ]
  },
  {
   "cell_type": "code",
   "execution_count": 5,
   "id": "1123f17c",
   "metadata": {},
   "outputs": [],
   "source": [
    "import nest_asyncio\n",
    "nest_asyncio.apply()"
   ]
  },
  {
   "cell_type": "code",
   "execution_count": 6,
   "id": "6db2c27b",
   "metadata": {},
   "outputs": [],
   "source": [
    "# !playwright install"
   ]
  },
  {
   "cell_type": "code",
   "execution_count": 8,
   "id": "acd1ae47",
   "metadata": {},
   "outputs": [],
   "source": [
    "from langchain_community.agent_toolkits import PlayWrightBrowserToolkit\n",
    "from langchain_community.tools.playwright.utils import create_async_playwright_browser\n",
    "\n",
    "# If you get a NotImplementedError here or later, see the Heads Up at the top of the notebook\n",
    "\n",
    "async_browser =  create_async_playwright_browser(headless=False)  # headful mode\n",
    "toolkit = PlayWrightBrowserToolkit.from_browser(async_browser=async_browser)\n",
    "tools = toolkit.get_tools()"
   ]
  },
  {
   "cell_type": "code",
   "execution_count": 9,
   "id": "70e53a45",
   "metadata": {},
   "outputs": [
    {
     "name": "stdout",
     "output_type": "stream",
     "text": [
      "click_element = async_browser=<Browser type=<BrowserType name=chromium executable_path=C:\\Users\\ASUS\\AppData\\Local\\ms-playwright\\chromium-1181\\chrome-win\\chrome.exe> version=139.0.7258.5>\n",
      "navigate_browser = async_browser=<Browser type=<BrowserType name=chromium executable_path=C:\\Users\\ASUS\\AppData\\Local\\ms-playwright\\chromium-1181\\chrome-win\\chrome.exe> version=139.0.7258.5>\n",
      "previous_webpage = async_browser=<Browser type=<BrowserType name=chromium executable_path=C:\\Users\\ASUS\\AppData\\Local\\ms-playwright\\chromium-1181\\chrome-win\\chrome.exe> version=139.0.7258.5>\n",
      "extract_text = async_browser=<Browser type=<BrowserType name=chromium executable_path=C:\\Users\\ASUS\\AppData\\Local\\ms-playwright\\chromium-1181\\chrome-win\\chrome.exe> version=139.0.7258.5>\n",
      "extract_hyperlinks = async_browser=<Browser type=<BrowserType name=chromium executable_path=C:\\Users\\ASUS\\AppData\\Local\\ms-playwright\\chromium-1181\\chrome-win\\chrome.exe> version=139.0.7258.5>\n",
      "get_elements = async_browser=<Browser type=<BrowserType name=chromium executable_path=C:\\Users\\ASUS\\AppData\\Local\\ms-playwright\\chromium-1181\\chrome-win\\chrome.exe> version=139.0.7258.5>\n",
      "current_webpage = async_browser=<Browser type=<BrowserType name=chromium executable_path=C:\\Users\\ASUS\\AppData\\Local\\ms-playwright\\chromium-1181\\chrome-win\\chrome.exe> version=139.0.7258.5>\n"
     ]
    }
   ],
   "source": [
    "for tool in tools:\n",
    "    print(f\"{tool.name} = {tool}\")"
   ]
  }
 ],
 "metadata": {
  "kernelspec": {
   "display_name": "Python 3",
   "language": "python",
   "name": "python3"
  },
  "language_info": {
   "codemirror_mode": {
    "name": "ipython",
    "version": 3
   },
   "file_extension": ".py",
   "mimetype": "text/x-python",
   "name": "python",
   "nbconvert_exporter": "python",
   "pygments_lexer": "ipython3",
   "version": "3.10.16"
  }
 },
 "nbformat": 4,
 "nbformat_minor": 5
}
