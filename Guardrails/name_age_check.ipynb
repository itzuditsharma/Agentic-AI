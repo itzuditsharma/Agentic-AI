{
 "cells": [
  {
   "cell_type": "code",
   "execution_count": 1,
   "id": "16adc741",
   "metadata": {},
   "outputs": [
    {
     "data": {
      "text/plain": [
       "True"
      ]
     },
     "execution_count": 1,
     "metadata": {},
     "output_type": "execute_result"
    }
   ],
   "source": [
    "import os \n",
    "from dotenv import load_dotenv\n",
    "load_dotenv(override=True)"
   ]
  },
  {
   "cell_type": "code",
   "execution_count": 9,
   "id": "1e1dd84c",
   "metadata": {},
   "outputs": [
    {
     "name": "stderr",
     "output_type": "stream",
     "text": [
      "WARNING:guardrails-ai:$ has a nameless child which is not allowed!\n"
     ]
    },
    {
     "name": "stdout",
     "output_type": "stream",
     "text": [
      "✅ Validated Output: {'name': 'Udit Sharma', 'age': 26}\n"
     ]
    }
   ],
   "source": [
    "from guardrails import Guard\n",
    "\n",
    "# Step 1: Load the guardrails spec\n",
    "guard = Guard.from_rail(\"person_output.xml\")\n",
    "# guard = Guard()\n",
    "\n",
    "# Step 2: Create the chat message\n",
    "user_input = \"The person's name is Udit Sharma and he is 26 years old.\"\n",
    "\n",
    "# You must now use 'messages' format (like OpenAI's Chat API)\n",
    "messages = [\n",
    "    {\"role\": \"system\", \"content\": \"You are a helpful assistant.\"},\n",
    "    {\"role\": \"user\", \"content\": f\"Give a JSON output with the person's name and age.\\n{user_input}\"}\n",
    "]\n",
    "\n",
    "# Step 3: Call guard with messages (no need to pass user_input or prompt_params)\n",
    "result = guard(messages=messages, model=\"gpt-4o\",)\n",
    "\n",
    "# Step 4: Print validated output\n",
    "print(\"✅ Validated Output:\", result.validated_output)\n"
   ]
  },
  {
   "cell_type": "code",
   "execution_count": 19,
   "id": "b7539c73",
   "metadata": {},
   "outputs": [
    {
     "name": "stderr",
     "output_type": "stream",
     "text": [
      "WARNING:guardrails-ai:$ has a nameless child which is not allowed!\n"
     ]
    },
    {
     "name": "stdout",
     "output_type": "stream",
     "text": [
      "✅ Validated Output: {'name': 'Udit Sharma', 'email': 'udit@xyz.com'}\n",
      "RAW llm output \n",
      "✅ Validated Output: Here is a JSON output with the person's name and email:\n",
      "\n",
      "```json\n",
      "{\n",
      "  \"name\": \"Udit Sharma\",\n",
      "  \"email\": \"udit@xyz.com\"\n",
      "}\n",
      "```\n"
     ]
    },
    {
     "name": "stderr",
     "output_type": "stream",
     "text": [
      "e:\\ML Projects\\Autogen-AgentAI\\venv\\lib\\site-packages\\guardrails\\validator_service\\__init__.py:85: UserWarning: Could not obtain an event loop. Falling back to synchronous validation.\n",
      "  warnings.warn(\n"
     ]
    }
   ],
   "source": [
    "from guardrails import Guard\n",
    "\n",
    "# Step 1: Load the guardrails spec\n",
    "guard = Guard.from_rail(\"email_check.xml\")\n",
    "# guard = Guard()\n",
    "\n",
    "# Step 2: Create the chat message\n",
    "user_input = \"The person's name is Udit Sharma, I am 26 years old and my email is udit@xyz.com.\"\n",
    "\n",
    "# You must now use 'messages' format (like OpenAI's Chat API)\n",
    "messages = [\n",
    "    {\"role\": \"system\", \"content\": \"You are a helpful assistant.\"},\n",
    "    {\"role\": \"user\", \"content\": f\"Give a JSON output with the person's name and email\\n{user_input}\"}\n",
    "]\n",
    "\n",
    "# Step 3: Call guard with messages (no need to pass user_input or prompt_params)\n",
    "result = guard(messages=messages, model=\"gpt-4o\",)\n",
    "\n",
    "# Step 4: Print validated output\n",
    "print(\"✅ Validated Output:\", result.validated_output)\n",
    "\n",
    "print(\"RAW llm output \")\n",
    "print(\"✅ Validated Output:\", result.raw_llm_output)\n"
   ]
  },
  {
   "cell_type": "markdown",
   "id": "38338a94",
   "metadata": {},
   "source": [
    "Using Pydantic"
   ]
  },
  {
   "cell_type": "code",
   "execution_count": 23,
   "id": "26bffd94",
   "metadata": {},
   "outputs": [
    {
     "name": "stdout",
     "output_type": "stream",
     "text": [
      "✅ Validated Output: {'name': 'Udit Sharma', 'age': 26}\n"
     ]
    }
   ],
   "source": [
    "from guardrails import Guard\n",
    "from pydantic import BaseModel\n",
    "\n",
    "class AnswerSchema(BaseModel):\n",
    "    name: str\n",
    "    age: int\n",
    "\n",
    "# Step 1: Load the guardrails spec\n",
    "guard = Guard.from_pydantic(output_class=AnswerSchema)\n",
    "# guard = Guard()\n",
    "\n",
    "# Step 2: Create the chat message\n",
    "user_input = \"The person's name is Udit Sharma, I am 26 years old and my email is udit@xyz.com.\"\n",
    "\n",
    "# You must now use 'messages' format (like OpenAI's Chat API)\n",
    "messages = [\n",
    "    {\"role\": \"system\", \"content\": \"You are a helpful assistant.\"},\n",
    "    {\"role\": \"user\", \"content\": f\"Give a JSON output with the person's name and age\\n{user_input}\"}\n",
    "]\n",
    "\n",
    "# Step 3: Call guard with messages (no need to pass user_input or prompt_params)\n",
    "result = guard(messages=messages, model=\"gpt-4o\",)\n",
    "\n",
    "# Step 4: Print validated output\n",
    "print(\"✅ Validated Output:\", result.validated_output)\n",
    "\n"
   ]
  }
 ],
 "metadata": {
  "kernelspec": {
   "display_name": "Python 3",
   "language": "python",
   "name": "python3"
  },
  "language_info": {
   "codemirror_mode": {
    "name": "ipython",
    "version": 3
   },
   "file_extension": ".py",
   "mimetype": "text/x-python",
   "name": "python",
   "nbconvert_exporter": "python",
   "pygments_lexer": "ipython3",
   "version": "3.10.16"
  }
 },
 "nbformat": 4,
 "nbformat_minor": 5
}
