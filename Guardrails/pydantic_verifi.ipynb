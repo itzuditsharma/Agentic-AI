{
 "cells": [
  {
   "cell_type": "code",
   "execution_count": null,
   "id": "0200847a",
   "metadata": {},
   "outputs": [],
   "source": [
    "import os\n",
    "import openai\n",
    "from dotenv import load_dotenv\n",
    "load_dotenv()\n",
    "from openai import OpenAI\n",
    "from pydantic import BaseModel, ValidationError\n",
    "import json\n",
    "\n",
    "class Person(BaseModel):\n",
    "    name: str\n",
    "    age: int\n",
    "\n",
    "\n",
    "# Set your OpenAI API key\n",
    "# api_key = os.env(\"OPENAI_API_KEY\")  # Replace with your actual key\n",
    "\n",
    "# Prompt that asks for specific JSON format\n",
    "prompt = \"\"\"\n",
    "Extract the person's name and age from the following text and return it in JSON format like:\n",
    "{\n",
    "  \"name\": \"Full Name\",\n",
    "  \"age\": Age as a number\n",
    "}\n",
    "\n",
    "Text: The person's name is Udit Sharma and he is 26 years old.\n",
    "\"\"\"\n",
    "client = OpenAI()\n",
    "# Call OpenAI GPT-3.5 Turbo\n",
    "response = client.chat.completions.create(\n",
    "    model=\"gpt-3.5-turbo\",\n",
    "    messages=[\n",
    "        {\"role\": \"system\", \"content\": \"You are a helpful assistant that returns data in JSON format.\"},\n",
    "        {\"role\": \"user\", \"content\": prompt}\n",
    "    ],\n",
    "    temperature=0,\n",
    "    logprobs=True\n",
    ")\n",
    "\n",
    "# Extract and print output\n",
    "output = response.choices[0].message.content\n",
    "score = response.choices[0].logprobs.content  \n",
    "print(\"📦 LLM Response:\\n\", output)\n",
    "print(\"Score is : \", score)\n",
    "\n",
    "try:\n",
    "    data = json.loads(output)\n",
    "    person = Person(**data)\n",
    "    print(\"✅ Validated Person:\", person)\n",
    "except (json.JSONDecodeError, ValidationError) as e:\n",
    "    print(\"❌ Validation failed:\", e)\n"
   ]
  },
  {
   "cell_type": "code",
   "execution_count": 23,
   "id": "d646ce16",
   "metadata": {},
   "outputs": [],
   "source": [
    "# parsed = model_validate(output)"
   ]
  }
 ],
 "metadata": {
  "kernelspec": {
   "display_name": "Python 3",
   "language": "python",
   "name": "python3"
  },
  "language_info": {
   "codemirror_mode": {
    "name": "ipython",
    "version": 3
   },
   "file_extension": ".py",
   "mimetype": "text/x-python",
   "name": "python",
   "nbconvert_exporter": "python",
   "pygments_lexer": "ipython3",
   "version": "3.10.16"
  }
 },
 "nbformat": 4,
 "nbformat_minor": 5
}
