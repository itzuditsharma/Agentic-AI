{
 "cells": [
  {
   "cell_type": "code",
   "execution_count": 1,
   "id": "554c564d",
   "metadata": {},
   "outputs": [],
   "source": [
    "import os\n",
    "from dotenv import load_dotenv\n",
    "from agents import Agent, Runner, trace, function_tool, OpenAIChatCompletionsModel, input_guardrail, GuardrailFunctionOutput\n",
    "from typing import Dict\n",
    "import sendgrid\n",
    "import os\n",
    "from sendgrid.helpers.mail import Email, To, Content, Mail\n",
    "from pydantic import BaseModel\n",
    "from openai import AsyncOpenAI"
   ]
  },
  {
   "cell_type": "code",
   "execution_count": 2,
   "id": "cec1ef8a",
   "metadata": {},
   "outputs": [
    {
     "data": {
      "text/plain": [
       "True"
      ]
     },
     "execution_count": 2,
     "metadata": {},
     "output_type": "execute_result"
    }
   ],
   "source": [
    "load_dotenv(override=True)"
   ]
  },
  {
   "cell_type": "code",
   "execution_count": 3,
   "id": "c318c92e",
   "metadata": {},
   "outputs": [],
   "source": [
    "google_api_key = os.getenv('GOOGLE_API_KEY')\n",
    "groq_api_key = os.getenv('GROQ_API_KEY')\n",
    "openai_api_key = os.getenv('OPENAI_API_KEY')\n"
   ]
  },
  {
   "cell_type": "code",
   "execution_count": 4,
   "id": "bf7d05b2",
   "metadata": {},
   "outputs": [],
   "source": [
    "instructions1 = \"You are a sales agent working for ComplAI, \\\n",
    "a company that provides a SaaS tool for ensuring SOC2 compliance and preparing for audits, powered by AI. \\\n",
    "You write professional, serious cold emails.\"\n",
    "\n",
    "instructions2 = \"You are a humorous, engaging sales agent working for ComplAI, \\\n",
    "a company that provides a SaaS tool for ensuring SOC2 compliance and preparing for audits, powered by AI. \\\n",
    "You write witty, engaging cold emails that are likely to get a response.\"\n",
    "\n",
    "instructions3 = \"You are a busy sales agent working for ComplAI, \\\n",
    "a company that provides a SaaS tool for ensuring SOC2 compliance and preparing for audits, powered by AI. \\\n",
    "You write concise, to the point cold emails.\""
   ]
  },
  {
   "cell_type": "code",
   "execution_count": 5,
   "id": "889a2cde",
   "metadata": {},
   "outputs": [],
   "source": [
    "GEMINI_BASE_URL = \"https://generativelanguage.googleapis.com/v1beta/openai/\"\n",
    "GROQ_BASE_URL = \"https://api.groq.com/openai/v1\""
   ]
  },
  {
   "cell_type": "code",
   "execution_count": 6,
   "id": "fca1d957",
   "metadata": {},
   "outputs": [],
   "source": [
    "gemini_client = AsyncOpenAI(base_url=GEMINI_BASE_URL, api_key=google_api_key)\n",
    "groq_client = AsyncOpenAI(base_url=GROQ_BASE_URL, api_key=groq_api_key)"
   ]
  },
  {
   "cell_type": "code",
   "execution_count": 7,
   "id": "0f0a5061",
   "metadata": {},
   "outputs": [],
   "source": [
    "gemini_model = OpenAIChatCompletionsModel(model = \"gemini-2.0-flash\", openai_client=gemini_client)\n",
    "llama_model = OpenAIChatCompletionsModel(model = \"llama-3.3-70b-versatile\", openai_client=groq_client)"
   ]
  },
  {
   "cell_type": "code",
   "execution_count": 8,
   "id": "8bfc703d",
   "metadata": {},
   "outputs": [],
   "source": [
    "email_agent1 = Agent(\n",
    "    name = \"Gemini Sales Agent\",\n",
    "    model = gemini_model,\n",
    "    instructions=instructions1\n",
    ")"
   ]
  },
  {
   "cell_type": "code",
   "execution_count": 9,
   "id": "39111e6f",
   "metadata": {},
   "outputs": [
    {
     "name": "stdout",
     "output_type": "stream",
     "text": [
      "Subject: Streamline SOC 2 Compliance with AI-Powered Automation at [Company Name]\n",
      "\n",
      "Dear [Contact Name],\n",
      "\n",
      "My name is [Your Name] from ComplAI. I'm reaching out because I understand that maintaining SOC 2 compliance can be a complex and resource-intensive process, especially at a company like [Company Name].\n",
      "\n",
      "At ComplAI, we offer an AI-powered SaaS platform designed to significantly simplify and automate your SOC 2 compliance efforts, reducing the burden on your team and ensuring audit readiness. Our platform helps you:\n",
      "\n",
      "*   **Automate Evidence Collection:** Our AI intelligently gathers and organizes the necessary documentation from across your systems, significantly reducing manual effort.\n",
      "*   **Identify and Remediate Gaps:** Our platform proactively identifies potential compliance gaps and provides actionable recommendations for remediation.\n",
      "*   **Streamline Audit Preparation:** We offer a centralized repository for all your compliance data, simplifying the audit process and reducing the risk of delays.\n",
      "\n",
      "We believe ComplAI can provide significant value to [Company Name] by saving you time, reducing costs, and strengthening your security posture.\n",
      "\n",
      "Would you be open to a brief 15-minute call to discuss your current SOC 2 compliance process and how ComplAI can help?\n",
      "\n",
      "Thank you for your time and consideration.\n",
      "\n",
      "Sincerely,\n",
      "\n",
      "[Your Name]\n",
      "\n",
      "[Your Title]\n",
      "\n",
      "ComplAI\n",
      "\n",
      "[Your Phone Number]\n",
      "\n",
      "[Your Email Address]\n",
      "\n",
      "[Your Website]\n",
      "\n"
     ]
    }
   ],
   "source": [
    "with trace(\"test Gemini\"):\n",
    "    response = await Runner.run(email_agent1, \"Generate a cold email\")\n",
    "    print(response.final_output)"
   ]
  }
 ],
 "metadata": {
  "kernelspec": {
   "display_name": "venv",
   "language": "python",
   "name": "python3"
  },
  "language_info": {
   "codemirror_mode": {
    "name": "ipython",
    "version": 3
   },
   "file_extension": ".py",
   "mimetype": "text/x-python",
   "name": "python",
   "nbconvert_exporter": "python",
   "pygments_lexer": "ipython3",
   "version": "3.10.16"
  }
 },
 "nbformat": 4,
 "nbformat_minor": 5
}
