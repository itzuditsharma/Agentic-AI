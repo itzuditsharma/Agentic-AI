{
 "cells": [
  {
   "cell_type": "code",
   "execution_count": 39,
   "id": "843cda1e",
   "metadata": {},
   "outputs": [],
   "source": [
    "from agents import Agent, Runner, trace, function_tool\n",
    "import sendgrid\n",
    "from sendgrid.helpers.mail import Mail, To, From, Content, Email\n",
    "from dotenv import load_dotenv\n",
    "load_dotenv(override=True)\n",
    "import asyncio\n",
    "import os"
   ]
  },
  {
   "cell_type": "code",
   "execution_count": 40,
   "id": "0800cd4e",
   "metadata": {},
   "outputs": [],
   "source": [
    "joker_agent = Agent(name = \"Jokester Agent\", instructions=\"You are a joker, you tell jokes of given topic\", model = 'gpt-4o-mini')"
   ]
  },
  {
   "cell_type": "code",
   "execution_count": 41,
   "id": "7a8fba59",
   "metadata": {},
   "outputs": [],
   "source": [
    "message = \"Give a joke on people who drink coffee\"\n",
    "\n",
    "response = await Runner.run(joker_agent, message)"
   ]
  },
  {
   "cell_type": "code",
   "execution_count": 42,
   "id": "82eb4a11",
   "metadata": {},
   "outputs": [
    {
     "name": "stdout",
     "output_type": "stream",
     "text": [
      "Why do coffee lovers always seem so positive?  \n",
      "\n",
      "Because they know how to espresso themselves!\n"
     ]
    }
   ],
   "source": [
    "print(response.final_output)"
   ]
  },
  {
   "cell_type": "code",
   "execution_count": null,
   "id": "a4b51fc5",
   "metadata": {},
   "outputs": [],
   "source": []
  },
  {
   "cell_type": "code",
   "execution_count": 43,
   "id": "c26aa5ae",
   "metadata": {},
   "outputs": [],
   "source": [
    "# Create agents - 1,2,3 (All writes cold emails)\n",
    "# put them in a single list \n",
    "# Convert to string \n",
    "# Create new Agent -> pass string ans ask to select best email \n",
    "# create agent to send the best selected email "
   ]
  },
  {
   "cell_type": "code",
   "execution_count": 44,
   "id": "b995ce3a",
   "metadata": {},
   "outputs": [],
   "source": [
    "instruction1 = \"You are a an agent working for an organisation that does consulting.\\\n",
    "    a company that provides consulting to the firms powered by AI.\\\n",
    "    You write professional, serious cold emails\"\n",
    "\n",
    "instruction2 = \"You are a an agent working for an organisation that does consulting.\\\n",
    "    a company that provides consulting to the firms powered by AI.\\\n",
    "    You write witty, engaging serious cold emails\"\n",
    "\n",
    "instruction3 = \"You are a an agent working for an organisation that does consulting.\\\n",
    "    a company that provides consulting to the firms powered by AI.\\\n",
    "    You write concise, to the point cold emails\""
   ]
  },
  {
   "cell_type": "code",
   "execution_count": 45,
   "id": "ce0b005b",
   "metadata": {},
   "outputs": [],
   "source": [
    "agent1 = Agent(\n",
    "    name = \"Professional email Agent\",\n",
    "    instructions=instruction1,\n",
    "    model = 'gpt-4o-mini'\n",
    ")\n",
    "\n",
    "agent2 = Agent(\n",
    "    name = \"Engaging email agent\",\n",
    "    instructions=instruction2,\n",
    "    model = 'gpt-4o-mini'\n",
    ")\n",
    "\n",
    "agent3 = Agent(\n",
    "    name = \"Busy email agent\",\n",
    "    instructions=instruction3,\n",
    "    model = 'gpt-4o-mini'\n",
    ")"
   ]
  },
  {
   "cell_type": "code",
   "execution_count": 46,
   "id": "b4b087cb",
   "metadata": {},
   "outputs": [
    {
     "name": "stdout",
     "output_type": "stream",
     "text": [
      "Subject: Unlocking AI Potential for Your Business\n",
      "\n",
      "Dear [Recipient's Name],\n",
      "\n",
      "I hope this message finds you well. My name is [Your Name], and I am with [Your Company], a consulting firm specializing in AI-driven solutions that empower organizations to optimize operations and enhance decision-making.\n",
      "\n",
      "In today’s rapidly evolving landscape, leveraging Artificial Intelligence is no longer optional but fundamental for maintaining a competitive edge. We have collaborated with numerous firms in your industry, helping them successfully integrate AI strategies to achieve measurable results.\n",
      "\n",
      "I would love the opportunity to discuss how our expertise could support [Recipient's Company] in harnessing the full potential of AI. Whether it’s streamlining processes, enhancing customer engagement, or driving innovation, we’re here to assist every step of the way.\n",
      "\n",
      "Are you available for a brief call next week? I look forward to the possibility of working together.\n",
      "\n",
      "Best regards,\n",
      "\n",
      "[Your Name]  \n",
      "[Your Position]  \n",
      "[Your Company]  \n",
      "[Your Phone Number]  \n",
      "[Your Email Address]  \n",
      "[Your Company Website]  \n"
     ]
    }
   ],
   "source": [
    "with trace(\"email agent1\"):\n",
    "    result = await Runner.run(agent1, input = \"Write a cold email\")\n",
    "    print(result.final_output)"
   ]
  },
  {
   "cell_type": "code",
   "execution_count": 47,
   "id": "490cc1aa",
   "metadata": {},
   "outputs": [
    {
     "name": "stdout",
     "output_type": "stream",
     "text": [
      "Subject: Unlock Your Firm's Potential with AI Consulting\n",
      "\n",
      "Hi [Recipient's Name],\n",
      "\n",
      "I hope this message finds you well. I'm [Your Name] from [Your Company Name], specializing in AI-driven consulting tailored for firms like yours.\n",
      "\n",
      "As businesses increasingly harness AI, we help organizations streamline processes, enhance decision-making, and drive growth. I believe we can assist [Recipient's Company] in unlocking new efficiencies and strategies.\n",
      "\n",
      "Could we schedule a brief call next week to discuss how we can support your goals?\n",
      "\n",
      "Looking forward to your reply.\n",
      "\n",
      "Best,  \n",
      "[Your Name]  \n",
      "[Your Position]  \n",
      "[Your Company Name]  \n",
      "[Your Phone Number]  \n",
      "[Your Website]  \n"
     ]
    }
   ],
   "source": [
    "with trace(\"email agent3\"):\n",
    "    result = await Runner.run(agent3, input = \"Write a cold email\")\n",
    "    print(result.final_output)"
   ]
  },
  {
   "cell_type": "markdown",
   "id": "905fd52e",
   "metadata": {},
   "source": [
    "Getting output of all the agents"
   ]
  },
  {
   "cell_type": "code",
   "execution_count": 48,
   "id": "1cd2669c",
   "metadata": {},
   "outputs": [
    {
     "name": "stdout",
     "output_type": "stream",
     "text": [
      "[RunResult(input='Write a cold Sales email', new_items=[MessageOutputItem(agent=Agent(name='Professional email Agent', instructions='You are a an agent working for an organisation that does consulting.    a company that provides consulting to the firms powered by AI.    You write professional, serious cold emails', prompt=None, handoff_description=None, handoffs=[], model='gpt-4o-mini', model_settings=ModelSettings(temperature=None, top_p=None, frequency_penalty=None, presence_penalty=None, tool_choice=None, parallel_tool_calls=None, truncation=None, max_tokens=None, reasoning=None, metadata=None, store=None, include_usage=None, extra_query=None, extra_body=None, extra_headers=None, extra_args=None), tools=[], mcp_servers=[], mcp_config={}, input_guardrails=[], output_guardrails=[], output_type=None, hooks=None, tool_use_behavior='run_llm_again', reset_tool_choice=True), raw_item=ResponseOutputMessage(id='msg_685eb10999748198a277c6c33a7a777d01c21060f1249157', content=[ResponseOutputText(annotations=[], text=\"Subject: Unlock the Full Potential of AI in Your Business\\n\\nDear [Recipient's Name],\\n\\nI hope this message finds you well. I am reaching out to introduce you to [Your Company Name], where we specialize in helping businesses like yours leverage artificial intelligence to drive efficiency, innovation, and growth.\\n\\nAs you may know, the landscape of AI is rapidly evolving, and organizations that harness its power effectively stand to gain a significant competitive edge. However, integrating AI into your operations can be complex and challenging. That's where we come in.\\n\\nAt [Your Company Name], our team of AI consultants has a proven track record of delivering tailored strategies that enhance productivity and optimize processes. Whether you’re looking to implement machine learning solutions, improve data management, or enhance customer experience through AI-driven insights, we can help.\\n\\nI would love the opportunity to discuss how we can support [Recipient's Company Name] in achieving its AI goals. Would you be open to a brief call next week? \\n\\nThank you for considering this opportunity. I look forward to the possibility of working together.\\n\\nBest regards,\\n\\n[Your Name]  \\n[Your Job Title]  \\n[Your Company Name]  \\n[Your Phone Number]  \\n[Your Email Address]  \\n[Your Company Website]\", type='output_text', logprobs=[])], role='assistant', status='completed', type='message'), type='message_output_item')], raw_responses=[ModelResponse(output=[ResponseOutputMessage(id='msg_685eb10999748198a277c6c33a7a777d01c21060f1249157', content=[ResponseOutputText(annotations=[], text=\"Subject: Unlock the Full Potential of AI in Your Business\\n\\nDear [Recipient's Name],\\n\\nI hope this message finds you well. I am reaching out to introduce you to [Your Company Name], where we specialize in helping businesses like yours leverage artificial intelligence to drive efficiency, innovation, and growth.\\n\\nAs you may know, the landscape of AI is rapidly evolving, and organizations that harness its power effectively stand to gain a significant competitive edge. However, integrating AI into your operations can be complex and challenging. That's where we come in.\\n\\nAt [Your Company Name], our team of AI consultants has a proven track record of delivering tailored strategies that enhance productivity and optimize processes. Whether you’re looking to implement machine learning solutions, improve data management, or enhance customer experience through AI-driven insights, we can help.\\n\\nI would love the opportunity to discuss how we can support [Recipient's Company Name] in achieving its AI goals. Would you be open to a brief call next week? \\n\\nThank you for considering this opportunity. I look forward to the possibility of working together.\\n\\nBest regards,\\n\\n[Your Name]  \\n[Your Job Title]  \\n[Your Company Name]  \\n[Your Phone Number]  \\n[Your Email Address]  \\n[Your Company Website]\", type='output_text', logprobs=[])], role='assistant', status='completed', type='message')], usage=Usage(requests=1, input_tokens=50, input_tokens_details=InputTokensDetails(cached_tokens=0), output_tokens=250, output_tokens_details=OutputTokensDetails(reasoning_tokens=0), total_tokens=300), response_id='resp_685eb10936d08198bf898e51e5fbd39601c21060f1249157')], final_output=\"Subject: Unlock the Full Potential of AI in Your Business\\n\\nDear [Recipient's Name],\\n\\nI hope this message finds you well. I am reaching out to introduce you to [Your Company Name], where we specialize in helping businesses like yours leverage artificial intelligence to drive efficiency, innovation, and growth.\\n\\nAs you may know, the landscape of AI is rapidly evolving, and organizations that harness its power effectively stand to gain a significant competitive edge. However, integrating AI into your operations can be complex and challenging. That's where we come in.\\n\\nAt [Your Company Name], our team of AI consultants has a proven track record of delivering tailored strategies that enhance productivity and optimize processes. Whether you’re looking to implement machine learning solutions, improve data management, or enhance customer experience through AI-driven insights, we can help.\\n\\nI would love the opportunity to discuss how we can support [Recipient's Company Name] in achieving its AI goals. Would you be open to a brief call next week? \\n\\nThank you for considering this opportunity. I look forward to the possibility of working together.\\n\\nBest regards,\\n\\n[Your Name]  \\n[Your Job Title]  \\n[Your Company Name]  \\n[Your Phone Number]  \\n[Your Email Address]  \\n[Your Company Website]\", input_guardrail_results=[], output_guardrail_results=[], context_wrapper=RunContextWrapper(context=None, usage=Usage(requests=1, input_tokens=50, input_tokens_details=InputTokensDetails(cached_tokens=0), output_tokens=250, output_tokens_details=OutputTokensDetails(reasoning_tokens=0), total_tokens=300)), _last_agent=Agent(name='Professional email Agent', instructions='You are a an agent working for an organisation that does consulting.    a company that provides consulting to the firms powered by AI.    You write professional, serious cold emails', prompt=None, handoff_description=None, handoffs=[], model='gpt-4o-mini', model_settings=ModelSettings(temperature=None, top_p=None, frequency_penalty=None, presence_penalty=None, tool_choice=None, parallel_tool_calls=None, truncation=None, max_tokens=None, reasoning=None, metadata=None, store=None, include_usage=None, extra_query=None, extra_body=None, extra_headers=None, extra_args=None), tools=[], mcp_servers=[], mcp_config={}, input_guardrails=[], output_guardrails=[], output_type=None, hooks=None, tool_use_behavior='run_llm_again', reset_tool_choice=True)), RunResult(input='Write a cold Sales email', new_items=[MessageOutputItem(agent=Agent(name='Engaging email agent', instructions='You are a an agent working for an organisation that does consulting.    a company that provides consulting to the firms powered by AI.    You write witty, engaging serious cold emails', prompt=None, handoff_description=None, handoffs=[], model='gpt-4o-mini', model_settings=ModelSettings(temperature=None, top_p=None, frequency_penalty=None, presence_penalty=None, tool_choice=None, parallel_tool_calls=None, truncation=None, max_tokens=None, reasoning=None, metadata=None, store=None, include_usage=None, extra_query=None, extra_body=None, extra_headers=None, extra_args=None), tools=[], mcp_servers=[], mcp_config={}, input_guardrails=[], output_guardrails=[], output_type=None, hooks=None, tool_use_behavior='run_llm_again', reset_tool_choice=True), raw_item=ResponseOutputMessage(id='msg_685eb10a4e448198bf8783ede06f08c00c884c7ab6a57210', content=[ResponseOutputText(annotations=[], text=\"Subject: Let’s Turn Your AI Aspirations into Reality! \\n\\nHi [Recipient's Name],\\n\\nI hope this email finds you thriving in the world of AI innovation! I’m reaching out not just because I admire [Company's Name]’s work, but because I believe we could be the game-changer you didn’t know you were looking for.\\n\\nImagine harnessing the full potential of AI—not just for automation, but for transformative growth! At [Your Company Name], we specialize in consulting that empowers businesses like yours to navigate the complexities of AI implementation and strategy. Think of us as your trusty GPS on this thrilling journey.\\n\\nHere are a few ways we can help:\\n- **Tailored Strategies:** We dive deep to understand your unique challenges and craft actionable strategies that drive results.\\n- **Cutting-Edge Insights:** Our team stays ahead of the curve on AI trends, ensuring you remain a leader, not just a follower.\\n- **Implementation Support:** From ideation to execution, we're in your corner every step of the way—no AI jargon left unturned!\\n\\nLet’s schedule a brief chat to discuss how we can leverage our expertise to fuel [Company's Name]’s growth ambitions. It could be the start of something extraordinary!\\n\\nLooking forward to your thoughts.\\n\\nBest,  \\n[Your Name]  \\n[Your Position]  \\n[Your Company Name]  \\n[Your Contact Information]  \\n[Your LinkedIn Profile or Website]  \\n\\nP.S. Why did the AI cross the road? To optimize its path to success! (Okay, it was worth a shot!)\", type='output_text', logprobs=[])], role='assistant', status='completed', type='message'), type='message_output_item')], raw_responses=[ModelResponse(output=[ResponseOutputMessage(id='msg_685eb10a4e448198bf8783ede06f08c00c884c7ab6a57210', content=[ResponseOutputText(annotations=[], text=\"Subject: Let’s Turn Your AI Aspirations into Reality! \\n\\nHi [Recipient's Name],\\n\\nI hope this email finds you thriving in the world of AI innovation! I’m reaching out not just because I admire [Company's Name]’s work, but because I believe we could be the game-changer you didn’t know you were looking for.\\n\\nImagine harnessing the full potential of AI—not just for automation, but for transformative growth! At [Your Company Name], we specialize in consulting that empowers businesses like yours to navigate the complexities of AI implementation and strategy. Think of us as your trusty GPS on this thrilling journey.\\n\\nHere are a few ways we can help:\\n- **Tailored Strategies:** We dive deep to understand your unique challenges and craft actionable strategies that drive results.\\n- **Cutting-Edge Insights:** Our team stays ahead of the curve on AI trends, ensuring you remain a leader, not just a follower.\\n- **Implementation Support:** From ideation to execution, we're in your corner every step of the way—no AI jargon left unturned!\\n\\nLet’s schedule a brief chat to discuss how we can leverage our expertise to fuel [Company's Name]’s growth ambitions. It could be the start of something extraordinary!\\n\\nLooking forward to your thoughts.\\n\\nBest,  \\n[Your Name]  \\n[Your Position]  \\n[Your Company Name]  \\n[Your Contact Information]  \\n[Your LinkedIn Profile or Website]  \\n\\nP.S. Why did the AI cross the road? To optimize its path to success! (Okay, it was worth a shot!)\", type='output_text', logprobs=[])], role='assistant', status='completed', type='message')], usage=Usage(requests=1, input_tokens=51, input_tokens_details=InputTokensDetails(cached_tokens=0), output_tokens=318, output_tokens_details=OutputTokensDetails(reasoning_tokens=0), total_tokens=369), response_id='resp_685eb109f2f0819886c8cf39b42096930c884c7ab6a57210')], final_output=\"Subject: Let’s Turn Your AI Aspirations into Reality! \\n\\nHi [Recipient's Name],\\n\\nI hope this email finds you thriving in the world of AI innovation! I’m reaching out not just because I admire [Company's Name]’s work, but because I believe we could be the game-changer you didn’t know you were looking for.\\n\\nImagine harnessing the full potential of AI—not just for automation, but for transformative growth! At [Your Company Name], we specialize in consulting that empowers businesses like yours to navigate the complexities of AI implementation and strategy. Think of us as your trusty GPS on this thrilling journey.\\n\\nHere are a few ways we can help:\\n- **Tailored Strategies:** We dive deep to understand your unique challenges and craft actionable strategies that drive results.\\n- **Cutting-Edge Insights:** Our team stays ahead of the curve on AI trends, ensuring you remain a leader, not just a follower.\\n- **Implementation Support:** From ideation to execution, we're in your corner every step of the way—no AI jargon left unturned!\\n\\nLet’s schedule a brief chat to discuss how we can leverage our expertise to fuel [Company's Name]’s growth ambitions. It could be the start of something extraordinary!\\n\\nLooking forward to your thoughts.\\n\\nBest,  \\n[Your Name]  \\n[Your Position]  \\n[Your Company Name]  \\n[Your Contact Information]  \\n[Your LinkedIn Profile or Website]  \\n\\nP.S. Why did the AI cross the road? To optimize its path to success! (Okay, it was worth a shot!)\", input_guardrail_results=[], output_guardrail_results=[], context_wrapper=RunContextWrapper(context=None, usage=Usage(requests=1, input_tokens=51, input_tokens_details=InputTokensDetails(cached_tokens=0), output_tokens=318, output_tokens_details=OutputTokensDetails(reasoning_tokens=0), total_tokens=369)), _last_agent=Agent(name='Engaging email agent', instructions='You are a an agent working for an organisation that does consulting.    a company that provides consulting to the firms powered by AI.    You write witty, engaging serious cold emails', prompt=None, handoff_description=None, handoffs=[], model='gpt-4o-mini', model_settings=ModelSettings(temperature=None, top_p=None, frequency_penalty=None, presence_penalty=None, tool_choice=None, parallel_tool_calls=None, truncation=None, max_tokens=None, reasoning=None, metadata=None, store=None, include_usage=None, extra_query=None, extra_body=None, extra_headers=None, extra_args=None), tools=[], mcp_servers=[], mcp_config={}, input_guardrails=[], output_guardrails=[], output_type=None, hooks=None, tool_use_behavior='run_llm_again', reset_tool_choice=True)), RunResult(input='Write a cold Sales email', new_items=[MessageOutputItem(agent=Agent(name='Busy email agent', instructions='You are a an agent working for an organisation that does consulting.    a company that provides consulting to the firms powered by AI.    You write concise, to the point cold emails', prompt=None, handoff_description=None, handoffs=[], model='gpt-4o-mini', model_settings=ModelSettings(temperature=None, top_p=None, frequency_penalty=None, presence_penalty=None, tool_choice=None, parallel_tool_calls=None, truncation=None, max_tokens=None, reasoning=None, metadata=None, store=None, include_usage=None, extra_query=None, extra_body=None, extra_headers=None, extra_args=None), tools=[], mcp_servers=[], mcp_config={}, input_guardrails=[], output_guardrails=[], output_type=None, hooks=None, tool_use_behavior='run_llm_again', reset_tool_choice=True), raw_item=ResponseOutputMessage(id='msg_685eb1099d18819ab039dc4a6fa6c890022d343328d13022', content=[ResponseOutputText(annotations=[], text=\"Subject: Unlock AI Potential for Your Business\\n\\nHi [Recipient's Name],\\n\\nI hope this message finds you well. I'm [Your Name] from [Your Company], where we specialize in helping firms like yours leverage AI to streamline operations and drive growth.\\n\\nWe’ve assisted companies in optimizing their processes, enhancing customer experiences, and making data-driven decisions. I’d love to share how we can achieve similar results for your organization.\\n\\nAre you available for a brief call next week to discuss this further?\\n\\nBest,  \\n[Your Name]  \\n[Your Position]  \\n[Your Company]  \\n[Your Phone Number]  \\n[Your Website]  \", type='output_text', logprobs=[])], role='assistant', status='completed', type='message'), type='message_output_item')], raw_responses=[ModelResponse(output=[ResponseOutputMessage(id='msg_685eb1099d18819ab039dc4a6fa6c890022d343328d13022', content=[ResponseOutputText(annotations=[], text=\"Subject: Unlock AI Potential for Your Business\\n\\nHi [Recipient's Name],\\n\\nI hope this message finds you well. I'm [Your Name] from [Your Company], where we specialize in helping firms like yours leverage AI to streamline operations and drive growth.\\n\\nWe’ve assisted companies in optimizing their processes, enhancing customer experiences, and making data-driven decisions. I’d love to share how we can achieve similar results for your organization.\\n\\nAre you available for a brief call next week to discuss this further?\\n\\nBest,  \\n[Your Name]  \\n[Your Position]  \\n[Your Company]  \\n[Your Phone Number]  \\n[Your Website]  \", type='output_text', logprobs=[])], role='assistant', status='completed', type='message')], usage=Usage(requests=1, input_tokens=52, input_tokens_details=InputTokensDetails(cached_tokens=0), output_tokens=128, output_tokens_details=OutputTokensDetails(reasoning_tokens=0), total_tokens=180), response_id='resp_685eb10945a4819aab2b92149d59ebf0022d343328d13022')], final_output=\"Subject: Unlock AI Potential for Your Business\\n\\nHi [Recipient's Name],\\n\\nI hope this message finds you well. I'm [Your Name] from [Your Company], where we specialize in helping firms like yours leverage AI to streamline operations and drive growth.\\n\\nWe’ve assisted companies in optimizing their processes, enhancing customer experiences, and making data-driven decisions. I’d love to share how we can achieve similar results for your organization.\\n\\nAre you available for a brief call next week to discuss this further?\\n\\nBest,  \\n[Your Name]  \\n[Your Position]  \\n[Your Company]  \\n[Your Phone Number]  \\n[Your Website]  \", input_guardrail_results=[], output_guardrail_results=[], context_wrapper=RunContextWrapper(context=None, usage=Usage(requests=1, input_tokens=52, input_tokens_details=InputTokensDetails(cached_tokens=0), output_tokens=128, output_tokens_details=OutputTokensDetails(reasoning_tokens=0), total_tokens=180)), _last_agent=Agent(name='Busy email agent', instructions='You are a an agent working for an organisation that does consulting.    a company that provides consulting to the firms powered by AI.    You write concise, to the point cold emails', prompt=None, handoff_description=None, handoffs=[], model='gpt-4o-mini', model_settings=ModelSettings(temperature=None, top_p=None, frequency_penalty=None, presence_penalty=None, tool_choice=None, parallel_tool_calls=None, truncation=None, max_tokens=None, reasoning=None, metadata=None, store=None, include_usage=None, extra_query=None, extra_body=None, extra_headers=None, extra_args=None), tools=[], mcp_servers=[], mcp_config={}, input_guardrails=[], output_guardrails=[], output_type=None, hooks=None, tool_use_behavior='run_llm_again', reset_tool_choice=True))]\n"
     ]
    }
   ],
   "source": [
    "message = \"Write a cold Sales email\"\n",
    "\n",
    "with trace(\"Parallel Cold emails\"):\n",
    "    results = await asyncio.gather(\n",
    "        Runner.run(agent1, message),\n",
    "        Runner.run(agent2, message),\n",
    "        Runner.run(agent3, message)\n",
    "    )\n",
    "\n",
    "print(results)"
   ]
  },
  {
   "cell_type": "code",
   "execution_count": 49,
   "id": "64925f6e",
   "metadata": {},
   "outputs": [
    {
     "name": "stdout",
     "output_type": "stream",
     "text": [
      "Subject: Unlock the Full Potential of AI in Your Business\n",
      "\n",
      "Dear [Recipient's Name],\n",
      "\n",
      "I hope this message finds you well. I am reaching out to introduce you to [Your Company Name], where we specialize in helping businesses like yours leverage artificial intelligence to drive efficiency, innovation, and growth.\n",
      "\n",
      "As you may know, the landscape of AI is rapidly evolving, and organizations that harness its power effectively stand to gain a significant competitive edge. However, integrating AI into your operations can be complex and challenging. That's where we come in.\n",
      "\n",
      "At [Your Company Name], our team of AI consultants has a proven track record of delivering tailored strategies that enhance productivity and optimize processes. Whether you’re looking to implement machine learning solutions, improve data management, or enhance customer experience through AI-driven insights, we can help.\n",
      "\n",
      "I would love the opportunity to discuss how we can support [Recipient's Company Name] in achieving its AI goals. Would you be open to a brief call next week? \n",
      "\n",
      "Thank you for considering this opportunity. I look forward to the possibility of working together.\n",
      "\n",
      "Best regards,\n",
      "\n",
      "[Your Name]  \n",
      "[Your Job Title]  \n",
      "[Your Company Name]  \n",
      "[Your Phone Number]  \n",
      "[Your Email Address]  \n",
      "[Your Company Website]\n",
      "Subject: Let’s Turn Your AI Aspirations into Reality! \n",
      "\n",
      "Hi [Recipient's Name],\n",
      "\n",
      "I hope this email finds you thriving in the world of AI innovation! I’m reaching out not just because I admire [Company's Name]’s work, but because I believe we could be the game-changer you didn’t know you were looking for.\n",
      "\n",
      "Imagine harnessing the full potential of AI—not just for automation, but for transformative growth! At [Your Company Name], we specialize in consulting that empowers businesses like yours to navigate the complexities of AI implementation and strategy. Think of us as your trusty GPS on this thrilling journey.\n",
      "\n",
      "Here are a few ways we can help:\n",
      "- **Tailored Strategies:** We dive deep to understand your unique challenges and craft actionable strategies that drive results.\n",
      "- **Cutting-Edge Insights:** Our team stays ahead of the curve on AI trends, ensuring you remain a leader, not just a follower.\n",
      "- **Implementation Support:** From ideation to execution, we're in your corner every step of the way—no AI jargon left unturned!\n",
      "\n",
      "Let’s schedule a brief chat to discuss how we can leverage our expertise to fuel [Company's Name]’s growth ambitions. It could be the start of something extraordinary!\n",
      "\n",
      "Looking forward to your thoughts.\n",
      "\n",
      "Best,  \n",
      "[Your Name]  \n",
      "[Your Position]  \n",
      "[Your Company Name]  \n",
      "[Your Contact Information]  \n",
      "[Your LinkedIn Profile or Website]  \n",
      "\n",
      "P.S. Why did the AI cross the road? To optimize its path to success! (Okay, it was worth a shot!)\n",
      "Subject: Unlock AI Potential for Your Business\n",
      "\n",
      "Hi [Recipient's Name],\n",
      "\n",
      "I hope this message finds you well. I'm [Your Name] from [Your Company], where we specialize in helping firms like yours leverage AI to streamline operations and drive growth.\n",
      "\n",
      "We’ve assisted companies in optimizing their processes, enhancing customer experiences, and making data-driven decisions. I’d love to share how we can achieve similar results for your organization.\n",
      "\n",
      "Are you available for a brief call next week to discuss this further?\n",
      "\n",
      "Best,  \n",
      "[Your Name]  \n",
      "[Your Position]  \n",
      "[Your Company]  \n",
      "[Your Phone Number]  \n",
      "[Your Website]  \n"
     ]
    }
   ],
   "source": [
    "for result in results:\n",
    "    print(result.final_output)"
   ]
  },
  {
   "cell_type": "code",
   "execution_count": 50,
   "id": "a8ab4ce8",
   "metadata": {},
   "outputs": [],
   "source": [
    "best_email_picker = Agent(\n",
    "    name = \"Email Picker\",\n",
    "    instructions=\"You pick the best cold sales email from the given options. \\\n",
    "Imagine you are a customer and pick the one you are most likely to respond to. \\\n",
    "Do not give an explanation; reply with the selected email only.\",\n",
    "    model = \"gpt-4o-mini\"\n",
    ")"
   ]
  },
  {
   "cell_type": "code",
   "execution_count": 51,
   "id": "9eb93b85",
   "metadata": {},
   "outputs": [
    {
     "name": "stdout",
     "output_type": "stream",
     "text": [
      "Best email: Subject: Unlock the Future of Your Business with AI Insights 🚀\n",
      "\n",
      "Hi [Recipient's Name],\n",
      "\n",
      "I hope this email finds you thriving in today’s fast-paced digital landscape! As a fellow explorer of innovation, I wanted to reach out and share some thoughts on how we can transform your firm's potential with the power of AI.\n",
      "\n",
      "Imagine having a virtual assistant that doesn’t just manage tasks but intelligently analyzes data, predicts trends, and unlocks hidden opportunities within your operations. Sounds like a plot twist from a sci-fi novel, right? Well, it’s the reality we help our clients achieve every day.\n",
      "\n",
      "At [Your Company Name], we specialize in guiding businesses like yours through the AI revolution. Whether you're looking to enhance decision-making processes or automate routine tasks, our consulting services are tailored to your unique needs.\n",
      "\n",
      "Let’s not let the future happen to us—let's shape it together! I’d love to schedule a quick chat to explore how we can elevate your firm into the AI-driven age.\n",
      "\n",
      "Looking forward to the possibility of collaborating!\n",
      "\n",
      "Best regards,\n",
      "\n",
      "[Your Name]  \n",
      "[Your Position]  \n",
      "[Your Company Name]  \n",
      "[Your Phone Number]  \n",
      "[Your LinkedIn Profile or Website]  \n",
      "\n",
      "P.S. What’s the most exciting technology you’ve adopted recently? I’d love to hear about it!\n"
     ]
    }
   ],
   "source": [
    "message = \"Write cold consulting email\"\n",
    "\n",
    "with trace(\"Selecting best email\"):\n",
    "    results = await asyncio.gather(\n",
    "        Runner.run(agent1, message),\n",
    "        Runner.run(agent2, message),\n",
    "        Runner.run(agent3, message),\n",
    "    )\n",
    "\n",
    "    outputs = [result.final_output for result in results]\n",
    "    emails = \"Cold Consulting Emails\\n\\n\".join(outputs)\n",
    "\n",
    "    best = await Runner.run(best_email_picker, emails)\n",
    "    print(f\"Best email: {best.final_output}\")"
   ]
  },
  {
   "cell_type": "markdown",
   "id": "b30de70f",
   "metadata": {},
   "source": [
    "Making use of the tools"
   ]
  },
  {
   "cell_type": "code",
   "execution_count": 52,
   "id": "9e351a78",
   "metadata": {},
   "outputs": [],
   "source": [
    "sales_agent1 = Agent(\n",
    "    name = \"Professional Sales Agent\",\n",
    "    instructions= instruction1,\n",
    "    model = \"gpt-4o-mini\"\n",
    ")\n",
    "sales_agent2 = Agent(\n",
    "    name = \"Engaging Sales Agent\",\n",
    "    instructions= instruction2,\n",
    "    model = \"gpt-4o-mini\"\n",
    ")\n",
    "sales_agent3 = Agent(\n",
    "    name = \"Busy Sales Agent\",\n",
    "    instructions= instruction3,\n",
    "    model = \"gpt-4o-mini\"\n",
    ")"
   ]
  },
  {
   "cell_type": "code",
   "execution_count": 53,
   "id": "0974812a",
   "metadata": {},
   "outputs": [],
   "source": [
    "@function_tool\n",
    "def send_email(body: str):\n",
    "    \"\"\" Send out an email with the given body to all consulting prospects \"\"\"\n",
    "    sg = sendgrid.SendGridAPIClient(api_key=os.environ.get('SENDGRID_API_KEY'))\n",
    "    from_email = Email(\"uditsdaily@gmail.com\")  # Change to your verified sender\n",
    "    to_email = To(\"uditdgreat@gmail.com\")  # Change to your recipient\n",
    "    content = Content(\"text/plain\", body)\n",
    "    mail = Mail(from_email, to_email, \"Want to take your organisation to next level?\", content).get()\n",
    "    response = sg.client.mail.send.post(request_body=mail)\n",
    "    return {\"status\": \"success\"}\n"
   ]
  },
  {
   "cell_type": "code",
   "execution_count": 54,
   "id": "75066aea",
   "metadata": {},
   "outputs": [
    {
     "data": {
      "text/plain": [
       "[FunctionTool(name='write_email1', description='Write a cold Consulting email', params_json_schema={'properties': {'input': {'title': 'Input', 'type': 'string'}}, 'required': ['input'], 'title': 'write_email1_args', 'type': 'object', 'additionalProperties': False}, on_invoke_tool=<function function_tool.<locals>._create_function_tool.<locals>._on_invoke_tool at 0x000002607143BE20>, strict_json_schema=True, is_enabled=True),\n",
       " FunctionTool(name='write_email2', description='Write a cold Consulting email', params_json_schema={'properties': {'input': {'title': 'Input', 'type': 'string'}}, 'required': ['input'], 'title': 'write_email2_args', 'type': 'object', 'additionalProperties': False}, on_invoke_tool=<function function_tool.<locals>._create_function_tool.<locals>._on_invoke_tool at 0x0000026071439C60>, strict_json_schema=True, is_enabled=True),\n",
       " FunctionTool(name='write_email3', description='Write a cold Consulting email', params_json_schema={'properties': {'input': {'title': 'Input', 'type': 'string'}}, 'required': ['input'], 'title': 'write_email3_args', 'type': 'object', 'additionalProperties': False}, on_invoke_tool=<function function_tool.<locals>._create_function_tool.<locals>._on_invoke_tool at 0x000002607143AB90>, strict_json_schema=True, is_enabled=True),\n",
       " FunctionTool(name='send_email', description='Send out an email with the given body to all consulting prospects', params_json_schema={'properties': {'body': {'title': 'Body', 'type': 'string'}}, 'required': ['body'], 'title': 'send_email_args', 'type': 'object', 'additionalProperties': False}, on_invoke_tool=<function function_tool.<locals>._create_function_tool.<locals>._on_invoke_tool at 0x000002607143B2E0>, strict_json_schema=True, is_enabled=True)]"
      ]
     },
     "execution_count": 54,
     "metadata": {},
     "output_type": "execute_result"
    }
   ],
   "source": [
    "description = \"Write a cold Consulting email\"\n",
    "\n",
    "tool1 = agent1.as_tool(tool_name = \"write_email1\", tool_description=description)\n",
    "tool2 = agent2.as_tool(tool_name = \"write_email2\", tool_description=description)\n",
    "tool3 = agent3.as_tool(tool_name = \"write_email3\", tool_description=description)\n",
    "\n",
    "tools = [tool1, tool2, tool3, send_email]\n",
    "\n",
    "tools"
   ]
  },
  {
   "cell_type": "code",
   "execution_count": 55,
   "id": "2d225f60",
   "metadata": {},
   "outputs": [],
   "source": [
    "instructions =\"You are a sales manager working for ConsultAI. You use the tools given to you to generate cold consulting emails. \\\n",
    "You never generate sales emails yourself; you always use the tools. \\\n",
    "You try all 3 write_email tools once before choosing the best one. \\\n",
    "You pick the single best email and use the send_email tool to send the best email (and only the best email) to the user.\"\n",
    "\n",
    "email_sender = Agent(\n",
    "    name = \"Manager\",\n",
    "    instructions=instructions,\n",
    "    model = \"gpt-4o-mini\",\n",
    "    tools = tools\n",
    ")\n",
    "\n",
    "message = \"Send a Cold email addressed to Dear CEO from Udit\"\n",
    "\n",
    "with trace(\"Email Try\"):\n",
    "    response = await Runner.run(email_sender, message)"
   ]
  }
 ],
 "metadata": {
  "kernelspec": {
   "display_name": "Python 3",
   "language": "python",
   "name": "python3"
  },
  "language_info": {
   "codemirror_mode": {
    "name": "ipython",
    "version": 3
   },
   "file_extension": ".py",
   "mimetype": "text/x-python",
   "name": "python",
   "nbconvert_exporter": "python",
   "pygments_lexer": "ipython3",
   "version": "3.10.16"
  }
 },
 "nbformat": 4,
 "nbformat_minor": 5
}
