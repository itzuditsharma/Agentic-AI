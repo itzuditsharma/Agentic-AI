{
 "cells": [
  {
   "cell_type": "code",
   "execution_count": 1,
   "id": "5bda2d59",
   "metadata": {},
   "outputs": [
    {
     "name": "stdout",
     "output_type": "stream",
     "text": [
      "Sequential took 6.01 sec\n",
      "['Results from source 1', 'Results from source 2', 'Results from source 3']\n"
     ]
    }
   ],
   "source": [
    "import time\n",
    "\n",
    "def retrieve_from_source(source_id):\n",
    "    time.sleep(2)  # pretend this is a slow API or DB query\n",
    "    return f\"Results from source {source_id}\"\n",
    "\n",
    "def handle_query_sequential(query):\n",
    "    start = time.time()\n",
    "    results = []\n",
    "    for source in range(1, 4):  # 3 sources\n",
    "        results.append(retrieve_from_source(source))\n",
    "    print(f\"Sequential took {time.time() - start:.2f} sec\")\n",
    "    return results\n",
    "\n",
    "print(handle_query_sequential(\"What is XYZ medicine?\"))\n"
   ]
  },
  {
   "cell_type": "code",
   "execution_count": 3,
   "id": "b2dbc49c",
   "metadata": {},
   "outputs": [
    {
     "name": "stderr",
     "output_type": "stream",
     "text": [
      "e:\\ML Projects\\Autogen-AgentAI\\venv\\lib\\site-packages\\tqdm\\auto.py:21: TqdmWarning: IProgress not found. Please update jupyter and ipywidgets. See https://ipywidgets.readthedocs.io/en/stable/user_install.html\n",
      "  from .autonotebook import tqdm as notebook_tqdm\n",
      "2025-08-09 17:19:06,270\tINFO util.py:154 -- Missing packages: ['ipywidgets']. Run `pip install -U ipywidgets`, then restart the notebook server for rich notebook output.\n",
      "2025-08-09 17:19:12,932\tINFO worker.py:1927 -- Started a local Ray instance.\n"
     ]
    },
    {
     "name": "stdout",
     "output_type": "stream",
     "text": [
      "Parallel took 2.42 sec\n",
      "['Results from source 1', 'Results from source 2', 'Results from source 3']\n"
     ]
    }
   ],
   "source": [
    "import time\n",
    "import ray\n",
    "\n",
    "ray.init()\n",
    "\n",
    "@ray.remote\n",
    "def retrieve_from_source(source_id):\n",
    "    time.sleep(2)  # pretend slow API/DB query\n",
    "    return f\"Results from source {source_id}\"\n",
    "\n",
    "def handle_query_parallel(query):\n",
    "    start = time.time()\n",
    "    futures = [retrieve_from_source.remote(i) for i in range(1, 4)]\n",
    "    results = ray.get(futures)\n",
    "    print(f\"Parallel took {time.time() - start:.2f} sec\")\n",
    "    return results\n",
    "\n",
    "print(handle_query_parallel(\"What is XYZ medicine?\"))\n"
   ]
  }
 ],
 "metadata": {
  "kernelspec": {
   "display_name": "Python 3",
   "language": "python",
   "name": "python3"
  },
  "language_info": {
   "codemirror_mode": {
    "name": "ipython",
    "version": 3
   },
   "file_extension": ".py",
   "mimetype": "text/x-python",
   "name": "python",
   "nbconvert_exporter": "python",
   "pygments_lexer": "ipython3",
   "version": "3.10.16"
  }
 },
 "nbformat": 4,
 "nbformat_minor": 5
}
