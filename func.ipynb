{
 "cells": [
  {
   "cell_type": "code",
   "execution_count": 5,
   "id": "39708af6",
   "metadata": {},
   "outputs": [
    {
     "name": "stdout",
     "output_type": "stream",
     "text": [
      "string2 is in string 1\n"
     ]
    }
   ],
   "source": [
    "def check_strings():\n",
    "    string1 = input(\"Enter the first string\")\n",
    "    string2 = input(\"Enter the 2nd string\")\n",
    "\n",
    "    if string1 in string2:\n",
    "        return f\"string1 is in string 2\"\n",
    "    elif  string2 in string1:\n",
    "        return f\"string2 is in string 1\"\n",
    "    else:\n",
    "        return \"No string mathces\"\n",
    "    \n",
    "print(check_strings())"
   ]
  },
  {
   "cell_type": "code",
   "execution_count": 3,
   "id": "bd687397",
   "metadata": {},
   "outputs": [
    {
     "name": "stdout",
     "output_type": "stream",
     "text": [
      "True\n"
     ]
    }
   ],
   "source": [
    "str1 = \"Thumbnail\"\n",
    "str2 = \"Thumb\"\n",
    "\n",
    "print(str2 in str1)"
   ]
  },
  {
   "cell_type": "code",
   "execution_count": 7,
   "id": "2f06d878",
   "metadata": {},
   "outputs": [
    {
     "data": {
      "text/plain": [
       "True"
      ]
     },
     "execution_count": 7,
     "metadata": {},
     "output_type": "execute_result"
    }
   ],
   "source": [
    "str1 = \"Thumbnail\"\n",
    "str2 = \"Thumb\"\n",
    "\n",
    "str2 in str1"
   ]
  }
 ],
 "metadata": {
  "kernelspec": {
   "display_name": "Python 3",
   "language": "python",
   "name": "python3"
  },
  "language_info": {
   "codemirror_mode": {
    "name": "ipython",
    "version": 3
   },
   "file_extension": ".py",
   "mimetype": "text/x-python",
   "name": "python",
   "nbconvert_exporter": "python",
   "pygments_lexer": "ipython3",
   "version": "3.10.16"
  }
 },
 "nbformat": 4,
 "nbformat_minor": 5
}
