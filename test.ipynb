{
 "cells": [
  {
   "cell_type": "code",
   "execution_count": null,
   "id": "49205776",
   "metadata": {},
   "outputs": [],
   "source": [
    "from scipy.stats import chisquare\n",
    "\n",
    "observed = [8, 9, 10, 12, 11, 10]\n",
    "expected = [10] * 6\n",
    "\n",
    "chi2_stat, p_val = chisquare(f_obs=observed, f_exp=expected)\n",
    "print(\"Chi2 Statistic:\", chi2_stat)\n",
    "print(\"p-value:\", p_val)\n"
   ]
  }
 ],
 "metadata": {
  "kernelspec": {
   "display_name": "Python 3",
   "language": "python",
   "name": "python3"
  },
  "language_info": {
   "name": "python",
   "version": "3.10.16"
  }
 },
 "nbformat": 4,
 "nbformat_minor": 5
}
